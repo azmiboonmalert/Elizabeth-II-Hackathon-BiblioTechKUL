{
 "cells": [
  {
   "cell_type": "markdown",
   "id": "1160927f",
   "metadata": {},
   "source": [
    "<h1>🐼 Cleaning our csv file 🐼</h1>\n",
    "\n",
    "<p>To be able to check, clean, and analyze our data, you can use Python's pandas library, which is commonly used for datasets. The documentation can be found on https://pandas.pydata.org/docs.</p>\n",
    "\n",
    "<p><b>Help! I'm new to Python and Jupyter Notebooks.</b> To run a cell with code, click on the cell and press shift and enter. Code is organized hierarchically, so you have to run all the code from top to bottom.</p>\n",
    "\n",
    "<p><b>Let's get started!</b> The next lines of code perform the following steps:\n",
    "    <ul>\n",
    "        <li>Import the pandas library into our environment. We'll be calling it 'pd' for brevity.</li>\n",
    "        <li>We have lots of rows and columns, and pandas doesn't show us all of them unless we ask it to. We've set the maximum number of columns and rows to display to 'None', meaning that there is no limit to how many columns it will show us.</li>\n",
    "        <li>Pandas also shortens displays of cell contents when they're long (for example in the permalink column to the tweet), so we'll ask it not to restrict the width of columns either.</li> \n",
    "        <li>Now let's load our data into Python! We'll be calling this version 'rawdata' because we'll clean it up. It's important to store the data file in the same folder as this notebook. Pandas will find it, read it, and organize it based on column separation by tabs ('\\t').</li>"
   ]
  },
  {
   "cell_type": "code",
   "execution_count": 1,
   "id": "29f82b0d",
   "metadata": {
    "scrolled": true
   },
   "outputs": [],
   "source": [
    "import pandas as pd\n",
    "pd.options.display.max_columns = None\n",
    "pd.options.display.max_rows = None\n",
    "pd.options.display.max_colwidth = None\n",
    "rawdata = pd.read_csv('aEC7hZ.csv', sep='\\t')"
   ]
  },
  {
   "cell_type": "markdown",
   "id": "bc688c14",
   "metadata": {},
   "source": [
    "<p>Now let's explore the dataset! Pandas has some functions to do this. First, let's have a look at all the columns that are included.</p>"
   ]
  },
  {
   "cell_type": "code",
   "execution_count": 2,
   "id": "c7ed2a67",
   "metadata": {
    "scrolled": true
   },
   "outputs": [
    {
     "data": {
      "text/plain": [
       "Index(['id', 'type', 'legislationType', 'author', 'author_alternateName',\n",
       "       'name', 'description', 'articleBody', 'text', 'printEdition',\n",
       "       'articleSection', 'sender', 'sender_alternateName', 'recipient',\n",
       "       'recipient_alternateName', 'legislationPassedBy',\n",
       "       'legislationResponsible', 'retweet', 'datePublished', 'url', 'provider',\n",
       "       'publisher', 'link', 'pagination', 'publicationdate', 'keywords',\n",
       "       'mentions', 'duration', 'contentUrl', 'about', 'inLanguage',\n",
       "       'contentLocation', 'associatedMedia', 'sdDatePublished', 'updatetime'],\n",
       "      dtype='object')"
      ]
     },
     "execution_count": 2,
     "metadata": {},
     "output_type": "execute_result"
    }
   ],
   "source": [
    "rawdata.columns "
   ]
  },
  {
   "cell_type": "markdown",
   "id": "a8896144",
   "metadata": {},
   "source": [
    "<p>A lot of tags seem to be related to legal documents or news media. This likely has something to do with the fact that we got this data from iCandid. We don't immediately know much more about what is actually in each column, so let's explore the first lines of data using the 'head' function. The number inbetween brackets indicates the number of lines from our dataset (starting at the top or head) that will be displayed (note that 0 also counts in Python!). You can change this to see more or less data.</p>"
   ]
  },
  {
   "cell_type": "code",
   "execution_count": 3,
   "id": "5ea8cd4a",
   "metadata": {
    "scrolled": true
   },
   "outputs": [
    {
     "data": {
      "text/html": [
       "<div>\n",
       "<style scoped>\n",
       "    .dataframe tbody tr th:only-of-type {\n",
       "        vertical-align: middle;\n",
       "    }\n",
       "\n",
       "    .dataframe tbody tr th {\n",
       "        vertical-align: top;\n",
       "    }\n",
       "\n",
       "    .dataframe thead th {\n",
       "        text-align: right;\n",
       "    }\n",
       "</style>\n",
       "<table border=\"1\" class=\"dataframe\">\n",
       "  <thead>\n",
       "    <tr style=\"text-align: right;\">\n",
       "      <th></th>\n",
       "      <th>id</th>\n",
       "      <th>type</th>\n",
       "      <th>legislationType</th>\n",
       "      <th>author</th>\n",
       "      <th>author_alternateName</th>\n",
       "      <th>name</th>\n",
       "      <th>description</th>\n",
       "      <th>articleBody</th>\n",
       "      <th>text</th>\n",
       "      <th>printEdition</th>\n",
       "      <th>articleSection</th>\n",
       "      <th>sender</th>\n",
       "      <th>sender_alternateName</th>\n",
       "      <th>recipient</th>\n",
       "      <th>recipient_alternateName</th>\n",
       "      <th>legislationPassedBy</th>\n",
       "      <th>legislationResponsible</th>\n",
       "      <th>retweet</th>\n",
       "      <th>datePublished</th>\n",
       "      <th>url</th>\n",
       "      <th>provider</th>\n",
       "      <th>publisher</th>\n",
       "      <th>link</th>\n",
       "      <th>pagination</th>\n",
       "      <th>publicationdate</th>\n",
       "      <th>keywords</th>\n",
       "      <th>mentions</th>\n",
       "      <th>duration</th>\n",
       "      <th>contentUrl</th>\n",
       "      <th>about</th>\n",
       "      <th>inLanguage</th>\n",
       "      <th>contentLocation</th>\n",
       "      <th>associatedMedia</th>\n",
       "      <th>sdDatePublished</th>\n",
       "      <th>updatetime</th>\n",
       "    </tr>\n",
       "  </thead>\n",
       "  <tbody>\n",
       "    <tr>\n",
       "      <th>0</th>\n",
       "      <td>iCANDID_twitter_1568208936423096321</td>\n",
       "      <td>Message</td>\n",
       "      <td>NaN</td>\n",
       "      <td>La Libre</td>\n",
       "      <td>@lalibrebe</td>\n",
       "      <td>🔴Charles III prononcera son premier discours à 18 heures.  🗞️Suivez notre direct ici : https://t.co/d34PIciBYe   #QueenElizabeth #CharlesIII #Londres #buckinghampalace https://t.co/McccCEX11p</td>\n",
       "      <td>NaN</td>\n",
       "      <td>NaN</td>\n",
       "      <td>🔴Charles III prononcera son premier discours à 18 heures.  🗞️Suivez notre direct ici : https://t.co/d34PIciBYe   #QueenElizabeth #CharlesIII #Londres #buckinghampalace https://t.co/McccCEX11p</td>\n",
       "      <td>NaN</td>\n",
       "      <td>NaN</td>\n",
       "      <td>La Libre</td>\n",
       "      <td>@lalibrebe</td>\n",
       "      <td>NaN</td>\n",
       "      <td>NaN</td>\n",
       "      <td>NaN</td>\n",
       "      <td>NaN</td>\n",
       "      <td>0</td>\n",
       "      <td>2022-09-09</td>\n",
       "      <td>https://icandid.libis.be/#/record/iCANDID_twitter_1568208936423096321</td>\n",
       "      <td>Twitter</td>\n",
       "      <td>Twitter</td>\n",
       "      <td>https://twitter.com/temp/status/1568208936423096321</td>\n",
       "      <td>NaN</td>\n",
       "      <td>QueenElizabeth, CharlesIII, Londres, buckinghampalace</td>\n",
       "      <td>NaN</td>\n",
       "      <td>NaN</td>\n",
       "      <td>NaN</td>\n",
       "      <td>NaN</td>\n",
       "      <td>French</td>\n",
       "      <td>NaN</td>\n",
       "      <td>https://pbs.twimg.com/media/FcNlMOYWAAQSGDp.jpg, https://pbs.twimg.com/media/FcNlMOYWAAQSGDp.jpg</td>\n",
       "      <td>2023-02-13T12:18:31.939327866Z</td>\n",
       "      <td>2023-02-13T12:18:31.939327866Z</td>\n",
       "      <td>NaN</td>\n",
       "    </tr>\n",
       "    <tr>\n",
       "      <th>1</th>\n",
       "      <td>iCANDID_twitter_1567852288735059970</td>\n",
       "      <td>Message</td>\n",
       "      <td>NaN</td>\n",
       "      <td>L'Echo</td>\n",
       "      <td>@lecho</td>\n",
       "      <td>La santé de la reine #ElizabethII inquiète, Charles et William se rendent à sa résidence ➡ https://t.co/PwsO6pgZcP ✍️ Par @CamBerkenbaum | #RoyaumeUni #UK #QueenElizabeth https://t.co/9Pl3B1Mtim</td>\n",
       "      <td>NaN</td>\n",
       "      <td>NaN</td>\n",
       "      <td>La santé de la reine #ElizabethII inquiète, Charles et William se rendent à sa résidence ➡ https://t.co/PwsO6pgZcP ✍️ Par @CamBerkenbaum | #RoyaumeUni #UK #QueenElizabeth https://t.co/9Pl3B1Mtim</td>\n",
       "      <td>NaN</td>\n",
       "      <td>NaN</td>\n",
       "      <td>L'Echo</td>\n",
       "      <td>@lecho</td>\n",
       "      <td>NaN</td>\n",
       "      <td>NaN</td>\n",
       "      <td>NaN</td>\n",
       "      <td>NaN</td>\n",
       "      <td>0</td>\n",
       "      <td>2022-09-08</td>\n",
       "      <td>https://icandid.libis.be/#/record/iCANDID_twitter_1567852288735059970</td>\n",
       "      <td>Twitter</td>\n",
       "      <td>Twitter</td>\n",
       "      <td>https://twitter.com/temp/status/1567852288735059970</td>\n",
       "      <td>NaN</td>\n",
       "      <td>ElizabethII, RoyaumeUni, UK, QueenElizabeth</td>\n",
       "      <td>Camille Berkenbaum</td>\n",
       "      <td>NaN</td>\n",
       "      <td>NaN</td>\n",
       "      <td>NaN</td>\n",
       "      <td>French</td>\n",
       "      <td>NaN</td>\n",
       "      <td>https://pbs.twimg.com/media/FcIhEC_XkAgIP1L.jpg, https://pbs.twimg.com/media/FcIhEC_XkAgIP1L.jpg</td>\n",
       "      <td>2023-02-13T12:11:40.950936604Z</td>\n",
       "      <td>2023-02-13T12:11:40.950936604Z</td>\n",
       "      <td>NaN</td>\n",
       "    </tr>\n",
       "    <tr>\n",
       "      <th>2</th>\n",
       "      <td>iCANDID_twitter_1567929575111532544</td>\n",
       "      <td>Message</td>\n",
       "      <td>NaN</td>\n",
       "      <td>jamal small d democrat</td>\n",
       "      <td>@jagallow</td>\n",
       "      <td>In blessed memory Queen Elizabth II #QueenElizabeth</td>\n",
       "      <td>NaN</td>\n",
       "      <td>NaN</td>\n",
       "      <td>In blessed memory Queen Elizabth II #QueenElizabeth</td>\n",
       "      <td>NaN</td>\n",
       "      <td>NaN</td>\n",
       "      <td>jamal small d democrat</td>\n",
       "      <td>@jagallow</td>\n",
       "      <td>NaN</td>\n",
       "      <td>NaN</td>\n",
       "      <td>NaN</td>\n",
       "      <td>NaN</td>\n",
       "      <td>0</td>\n",
       "      <td>2022-09-08</td>\n",
       "      <td>https://icandid.libis.be/#/record/iCANDID_twitter_1567929575111532544</td>\n",
       "      <td>Twitter</td>\n",
       "      <td>Twitter</td>\n",
       "      <td>https://twitter.com/temp/status/1567929575111532544</td>\n",
       "      <td>NaN</td>\n",
       "      <td>QueenElizabeth</td>\n",
       "      <td>NaN</td>\n",
       "      <td>NaN</td>\n",
       "      <td>NaN</td>\n",
       "      <td>NaN</td>\n",
       "      <td>English</td>\n",
       "      <td>NaN</td>\n",
       "      <td>NaN</td>\n",
       "      <td>2023-02-13T13:44:09.241703013Z</td>\n",
       "      <td>2023-02-13T13:44:09.241703013Z</td>\n",
       "      <td>NaN</td>\n",
       "    </tr>\n",
       "    <tr>\n",
       "      <th>3</th>\n",
       "      <td>iCANDID_twitter_1567929574985457664</td>\n",
       "      <td>Message</td>\n",
       "      <td>NaN</td>\n",
       "      <td>Henna (Available now)</td>\n",
       "      <td>@hennalilacstar</td>\n",
       "      <td>I can't #QueenElizabeth RIP💔</td>\n",
       "      <td>NaN</td>\n",
       "      <td>NaN</td>\n",
       "      <td>I can't #QueenElizabeth RIP💔</td>\n",
       "      <td>NaN</td>\n",
       "      <td>NaN</td>\n",
       "      <td>Henna (Available now)</td>\n",
       "      <td>@hennalilacstar</td>\n",
       "      <td>NaN</td>\n",
       "      <td>NaN</td>\n",
       "      <td>NaN</td>\n",
       "      <td>NaN</td>\n",
       "      <td>0</td>\n",
       "      <td>2022-09-08</td>\n",
       "      <td>https://icandid.libis.be/#/record/iCANDID_twitter_1567929574985457664</td>\n",
       "      <td>Twitter</td>\n",
       "      <td>Twitter</td>\n",
       "      <td>https://twitter.com/temp/status/1567929574985457664</td>\n",
       "      <td>NaN</td>\n",
       "      <td>QueenElizabeth</td>\n",
       "      <td>NaN</td>\n",
       "      <td>NaN</td>\n",
       "      <td>NaN</td>\n",
       "      <td>NaN</td>\n",
       "      <td>English</td>\n",
       "      <td>NaN</td>\n",
       "      <td>NaN</td>\n",
       "      <td>2023-02-13T13:44:09.242027513Z</td>\n",
       "      <td>2023-02-13T13:44:09.242027513Z</td>\n",
       "      <td>NaN</td>\n",
       "    </tr>\n",
       "    <tr>\n",
       "      <th>4</th>\n",
       "      <td>iCANDID_twitter_1567929574826323974</td>\n",
       "      <td>Message</td>\n",
       "      <td>NaN</td>\n",
       "      <td>Ivan</td>\n",
       "      <td>@Zeldris117</td>\n",
       "      <td>Rest in peace.  We will miss you #QueenElizabeth https://t.co/8oXjqme5Zl</td>\n",
       "      <td>NaN</td>\n",
       "      <td>NaN</td>\n",
       "      <td>Rest in peace.  We will miss you #QueenElizabeth https://t.co/8oXjqme5Zl</td>\n",
       "      <td>NaN</td>\n",
       "      <td>NaN</td>\n",
       "      <td>Ivan</td>\n",
       "      <td>@Zeldris117</td>\n",
       "      <td>NaN</td>\n",
       "      <td>NaN</td>\n",
       "      <td>NaN</td>\n",
       "      <td>NaN</td>\n",
       "      <td>0</td>\n",
       "      <td>2022-09-08</td>\n",
       "      <td>https://icandid.libis.be/#/record/iCANDID_twitter_1567929574826323974</td>\n",
       "      <td>Twitter</td>\n",
       "      <td>Twitter</td>\n",
       "      <td>https://twitter.com/temp/status/1567929574826323974</td>\n",
       "      <td>NaN</td>\n",
       "      <td>QueenElizabeth</td>\n",
       "      <td>NaN</td>\n",
       "      <td>NaN</td>\n",
       "      <td>NaN</td>\n",
       "      <td>NaN</td>\n",
       "      <td>English</td>\n",
       "      <td>NaN</td>\n",
       "      <td>https://pbs.twimg.com/tweet_video_thumb/FcJnojVWAAIJsJO.jpg</td>\n",
       "      <td>2023-02-13T13:44:09.242231411Z</td>\n",
       "      <td>2023-02-13T13:44:09.242231411Z</td>\n",
       "      <td>NaN</td>\n",
       "    </tr>\n",
       "  </tbody>\n",
       "</table>\n",
       "</div>"
      ],
      "text/plain": [
       "                                    id     type  legislationType  \\\n",
       "0  iCANDID_twitter_1568208936423096321  Message              NaN   \n",
       "1  iCANDID_twitter_1567852288735059970  Message              NaN   \n",
       "2  iCANDID_twitter_1567929575111532544  Message              NaN   \n",
       "3  iCANDID_twitter_1567929574985457664  Message              NaN   \n",
       "4  iCANDID_twitter_1567929574826323974  Message              NaN   \n",
       "\n",
       "                   author author_alternateName  \\\n",
       "0                La Libre           @lalibrebe   \n",
       "1                  L'Echo               @lecho   \n",
       "2  jamal small d democrat            @jagallow   \n",
       "3   Henna (Available now)      @hennalilacstar   \n",
       "4                    Ivan          @Zeldris117   \n",
       "\n",
       "                                                                                                                                                                                                 name  \\\n",
       "0     🔴Charles III prononcera son premier discours à 18 heures.  🗞️Suivez notre direct ici : https://t.co/d34PIciBYe   #QueenElizabeth #CharlesIII #Londres #buckinghampalace https://t.co/McccCEX11p   \n",
       "1  La santé de la reine #ElizabethII inquiète, Charles et William se rendent à sa résidence ➡ https://t.co/PwsO6pgZcP ✍️ Par @CamBerkenbaum | #RoyaumeUni #UK #QueenElizabeth https://t.co/9Pl3B1Mtim   \n",
       "2                                                                                                                                                 In blessed memory Queen Elizabth II #QueenElizabeth   \n",
       "3                                                                                                                                                                        I can't #QueenElizabeth RIP💔   \n",
       "4                                                                                                                            Rest in peace.  We will miss you #QueenElizabeth https://t.co/8oXjqme5Zl   \n",
       "\n",
       "   description  articleBody  \\\n",
       "0          NaN          NaN   \n",
       "1          NaN          NaN   \n",
       "2          NaN          NaN   \n",
       "3          NaN          NaN   \n",
       "4          NaN          NaN   \n",
       "\n",
       "                                                                                                                                                                                                 text  \\\n",
       "0     🔴Charles III prononcera son premier discours à 18 heures.  🗞️Suivez notre direct ici : https://t.co/d34PIciBYe   #QueenElizabeth #CharlesIII #Londres #buckinghampalace https://t.co/McccCEX11p   \n",
       "1  La santé de la reine #ElizabethII inquiète, Charles et William se rendent à sa résidence ➡ https://t.co/PwsO6pgZcP ✍️ Par @CamBerkenbaum | #RoyaumeUni #UK #QueenElizabeth https://t.co/9Pl3B1Mtim   \n",
       "2                                                                                                                                                 In blessed memory Queen Elizabth II #QueenElizabeth   \n",
       "3                                                                                                                                                                        I can't #QueenElizabeth RIP💔   \n",
       "4                                                                                                                            Rest in peace.  We will miss you #QueenElizabeth https://t.co/8oXjqme5Zl   \n",
       "\n",
       "   printEdition  articleSection                  sender sender_alternateName  \\\n",
       "0           NaN             NaN                La Libre           @lalibrebe   \n",
       "1           NaN             NaN                  L'Echo               @lecho   \n",
       "2           NaN             NaN  jamal small d democrat            @jagallow   \n",
       "3           NaN             NaN   Henna (Available now)      @hennalilacstar   \n",
       "4           NaN             NaN                    Ivan          @Zeldris117   \n",
       "\n",
       "  recipient recipient_alternateName  legislationPassedBy  \\\n",
       "0       NaN                     NaN                  NaN   \n",
       "1       NaN                     NaN                  NaN   \n",
       "2       NaN                     NaN                  NaN   \n",
       "3       NaN                     NaN                  NaN   \n",
       "4       NaN                     NaN                  NaN   \n",
       "\n",
       "   legislationResponsible  retweet datePublished  \\\n",
       "0                     NaN        0    2022-09-09   \n",
       "1                     NaN        0    2022-09-08   \n",
       "2                     NaN        0    2022-09-08   \n",
       "3                     NaN        0    2022-09-08   \n",
       "4                     NaN        0    2022-09-08   \n",
       "\n",
       "                                                                     url  \\\n",
       "0  https://icandid.libis.be/#/record/iCANDID_twitter_1568208936423096321   \n",
       "1  https://icandid.libis.be/#/record/iCANDID_twitter_1567852288735059970   \n",
       "2  https://icandid.libis.be/#/record/iCANDID_twitter_1567929575111532544   \n",
       "3  https://icandid.libis.be/#/record/iCANDID_twitter_1567929574985457664   \n",
       "4  https://icandid.libis.be/#/record/iCANDID_twitter_1567929574826323974   \n",
       "\n",
       "  provider publisher                                                 link  \\\n",
       "0  Twitter   Twitter  https://twitter.com/temp/status/1568208936423096321   \n",
       "1  Twitter   Twitter  https://twitter.com/temp/status/1567852288735059970   \n",
       "2  Twitter   Twitter  https://twitter.com/temp/status/1567929575111532544   \n",
       "3  Twitter   Twitter  https://twitter.com/temp/status/1567929574985457664   \n",
       "4  Twitter   Twitter  https://twitter.com/temp/status/1567929574826323974   \n",
       "\n",
       "   pagination                                        publicationdate  \\\n",
       "0         NaN  QueenElizabeth, CharlesIII, Londres, buckinghampalace   \n",
       "1         NaN            ElizabethII, RoyaumeUni, UK, QueenElizabeth   \n",
       "2         NaN                                         QueenElizabeth   \n",
       "3         NaN                                         QueenElizabeth   \n",
       "4         NaN                                         QueenElizabeth   \n",
       "\n",
       "             keywords  mentions  duration  contentUrl    about inLanguage  \\\n",
       "0                 NaN       NaN       NaN         NaN   French        NaN   \n",
       "1  Camille Berkenbaum       NaN       NaN         NaN   French        NaN   \n",
       "2                 NaN       NaN       NaN         NaN  English        NaN   \n",
       "3                 NaN       NaN       NaN         NaN  English        NaN   \n",
       "4                 NaN       NaN       NaN         NaN  English        NaN   \n",
       "\n",
       "                                                                                    contentLocation  \\\n",
       "0  https://pbs.twimg.com/media/FcNlMOYWAAQSGDp.jpg, https://pbs.twimg.com/media/FcNlMOYWAAQSGDp.jpg   \n",
       "1  https://pbs.twimg.com/media/FcIhEC_XkAgIP1L.jpg, https://pbs.twimg.com/media/FcIhEC_XkAgIP1L.jpg   \n",
       "2                                                                                               NaN   \n",
       "3                                                                                               NaN   \n",
       "4                                       https://pbs.twimg.com/tweet_video_thumb/FcJnojVWAAIJsJO.jpg   \n",
       "\n",
       "                  associatedMedia                 sdDatePublished  updatetime  \n",
       "0  2023-02-13T12:18:31.939327866Z  2023-02-13T12:18:31.939327866Z         NaN  \n",
       "1  2023-02-13T12:11:40.950936604Z  2023-02-13T12:11:40.950936604Z         NaN  \n",
       "2  2023-02-13T13:44:09.241703013Z  2023-02-13T13:44:09.241703013Z         NaN  \n",
       "3  2023-02-13T13:44:09.242027513Z  2023-02-13T13:44:09.242027513Z         NaN  \n",
       "4  2023-02-13T13:44:09.242231411Z  2023-02-13T13:44:09.242231411Z         NaN  "
      ]
     },
     "execution_count": 3,
     "metadata": {},
     "output_type": "execute_result"
    }
   ],
   "source": [
    "rawdata.head(5)"
   ]
  },
  {
   "cell_type": "markdown",
   "id": "fc183665",
   "metadata": {},
   "source": [
    "<p>We can do the same for the last lines of data using the 'tail' function.</p>"
   ]
  },
  {
   "cell_type": "code",
   "execution_count": 4,
   "id": "0e9575fc",
   "metadata": {
    "scrolled": true
   },
   "outputs": [
    {
     "data": {
      "text/html": [
       "<div>\n",
       "<style scoped>\n",
       "    .dataframe tbody tr th:only-of-type {\n",
       "        vertical-align: middle;\n",
       "    }\n",
       "\n",
       "    .dataframe tbody tr th {\n",
       "        vertical-align: top;\n",
       "    }\n",
       "\n",
       "    .dataframe thead th {\n",
       "        text-align: right;\n",
       "    }\n",
       "</style>\n",
       "<table border=\"1\" class=\"dataframe\">\n",
       "  <thead>\n",
       "    <tr style=\"text-align: right;\">\n",
       "      <th></th>\n",
       "      <th>id</th>\n",
       "      <th>type</th>\n",
       "      <th>legislationType</th>\n",
       "      <th>author</th>\n",
       "      <th>author_alternateName</th>\n",
       "      <th>name</th>\n",
       "      <th>description</th>\n",
       "      <th>articleBody</th>\n",
       "      <th>text</th>\n",
       "      <th>printEdition</th>\n",
       "      <th>articleSection</th>\n",
       "      <th>sender</th>\n",
       "      <th>sender_alternateName</th>\n",
       "      <th>recipient</th>\n",
       "      <th>recipient_alternateName</th>\n",
       "      <th>legislationPassedBy</th>\n",
       "      <th>legislationResponsible</th>\n",
       "      <th>retweet</th>\n",
       "      <th>datePublished</th>\n",
       "      <th>url</th>\n",
       "      <th>provider</th>\n",
       "      <th>publisher</th>\n",
       "      <th>link</th>\n",
       "      <th>pagination</th>\n",
       "      <th>publicationdate</th>\n",
       "      <th>keywords</th>\n",
       "      <th>mentions</th>\n",
       "      <th>duration</th>\n",
       "      <th>contentUrl</th>\n",
       "      <th>about</th>\n",
       "      <th>inLanguage</th>\n",
       "      <th>contentLocation</th>\n",
       "      <th>associatedMedia</th>\n",
       "      <th>sdDatePublished</th>\n",
       "      <th>updatetime</th>\n",
       "    </tr>\n",
       "  </thead>\n",
       "  <tbody>\n",
       "    <tr>\n",
       "      <th>534959</th>\n",
       "      <td>iCANDID_twitter_1568819543341940736</td>\n",
       "      <td>Message</td>\n",
       "      <td>NaN</td>\n",
       "      <td>Maria ♋🦀❤️</td>\n",
       "      <td>@fatgirlcutie</td>\n",
       "      <td>Hello Twitterville and all my followers. If you have a moment could you please subscribe to my YouTube channel ❤️ I would really appreciate it. My YouTube channel is thiccmaria40 #D23Expo2022 #CadizBarca #Ukraine #KingCharlesIII #QueenElizabeth #TikTok #SlavaUkraini #kufball https://t.co/bIfJp645S5</td>\n",
       "      <td>NaN</td>\n",
       "      <td>NaN</td>\n",
       "      <td>Hello Twitterville and all my followers. If you have a moment could you please subscribe to my YouTube channel ❤️ I would really appreciate it. My YouTube channel is thiccmaria40 #D23Expo2022 #CadizBarca #Ukraine #KingCharlesIII #QueenElizabeth #TikTok #SlavaUkraini #kufball https://t.co/bIfJp645S5</td>\n",
       "      <td>NaN</td>\n",
       "      <td>NaN</td>\n",
       "      <td>Maria ♋🦀❤️</td>\n",
       "      <td>@fatgirlcutie</td>\n",
       "      <td>NaN</td>\n",
       "      <td>NaN</td>\n",
       "      <td>NaN</td>\n",
       "      <td>NaN</td>\n",
       "      <td>0</td>\n",
       "      <td>2022-09-11</td>\n",
       "      <td>https://icandid.libis.be/#/record/iCANDID_twitter_1568819543341940736</td>\n",
       "      <td>Twitter</td>\n",
       "      <td>Twitter</td>\n",
       "      <td>https://twitter.com/temp/status/1568819543341940736</td>\n",
       "      <td>NaN</td>\n",
       "      <td>D23Expo2022, CadizBarca, Ukraine, KingCharlesIII, QueenElizabeth, TikTok, SlavaUkraini, kufball</td>\n",
       "      <td>NaN</td>\n",
       "      <td>NaN</td>\n",
       "      <td>NaN</td>\n",
       "      <td>NaN</td>\n",
       "      <td>English</td>\n",
       "      <td>NaN</td>\n",
       "      <td>https://pbs.twimg.com/ext_tw_video_thumb/1568819477877252096/pu/img/1kMZi4iA7nsF_A9y.jpg</td>\n",
       "      <td>2023-02-13T14:14:44.930081295Z</td>\n",
       "      <td>2023-02-13T14:14:44.930081295Z</td>\n",
       "      <td>NaN</td>\n",
       "    </tr>\n",
       "    <tr>\n",
       "      <th>534960</th>\n",
       "      <td>iCANDID_twitter_1568819257273716736</td>\n",
       "      <td>Message</td>\n",
       "      <td>NaN</td>\n",
       "      <td>simon macharia</td>\n",
       "      <td>@Simonmacha254</td>\n",
       "      <td>it's my birthday 🎂🎂🎂 thank you God  #birthdayboy #QueenElizabeth https://t.co/YlEUgmvn70</td>\n",
       "      <td>NaN</td>\n",
       "      <td>NaN</td>\n",
       "      <td>it's my birthday 🎂🎂🎂 thank you God  #birthdayboy #QueenElizabeth https://t.co/YlEUgmvn70</td>\n",
       "      <td>NaN</td>\n",
       "      <td>NaN</td>\n",
       "      <td>simon macharia</td>\n",
       "      <td>@Simonmacha254</td>\n",
       "      <td>NaN</td>\n",
       "      <td>NaN</td>\n",
       "      <td>NaN</td>\n",
       "      <td>NaN</td>\n",
       "      <td>0</td>\n",
       "      <td>2022-09-11</td>\n",
       "      <td>https://icandid.libis.be/#/record/iCANDID_twitter_1568819257273716736</td>\n",
       "      <td>Twitter</td>\n",
       "      <td>Twitter</td>\n",
       "      <td>https://twitter.com/temp/status/1568819257273716736</td>\n",
       "      <td>NaN</td>\n",
       "      <td>birthdayboy, QueenElizabeth</td>\n",
       "      <td>NaN</td>\n",
       "      <td>NaN</td>\n",
       "      <td>NaN</td>\n",
       "      <td>NaN</td>\n",
       "      <td>English</td>\n",
       "      <td>NaN</td>\n",
       "      <td>https://pbs.twimg.com/media/FcWQyy5XgAAVWOL.jpg, https://pbs.twimg.com/media/FcWQyy5XgAAVWOL.jpg</td>\n",
       "      <td>2023-02-13T14:14:44.930291875Z</td>\n",
       "      <td>2023-02-13T14:14:44.930291875Z</td>\n",
       "      <td>NaN</td>\n",
       "    </tr>\n",
       "    <tr>\n",
       "      <th>534961</th>\n",
       "      <td>iCANDID_twitter_1568819006571958276</td>\n",
       "      <td>Message</td>\n",
       "      <td>NaN</td>\n",
       "      <td>Sajeed</td>\n",
       "      <td>@Sajeed63814075</td>\n",
       "      <td>Jammu-Kashmir: Section 144 imposed in Rajouri following row between two communities  #IndianArmyPeoplesArmy #SHUTDOWN #HannahPangilinan #ZeePruk #Brahmastra    #AbolishTheMonarchy #QueenElizabeth #USOpen https://t.co/OrGiMqUSYw</td>\n",
       "      <td>NaN</td>\n",
       "      <td>NaN</td>\n",
       "      <td>Jammu-Kashmir: Section 144 imposed in Rajouri following row between two communities  #IndianArmyPeoplesArmy #SHUTDOWN #HannahPangilinan #ZeePruk #Brahmastra    #AbolishTheMonarchy #QueenElizabeth #USOpen https://t.co/OrGiMqUSYw</td>\n",
       "      <td>NaN</td>\n",
       "      <td>NaN</td>\n",
       "      <td>Sajeed</td>\n",
       "      <td>@Sajeed63814075</td>\n",
       "      <td>NaN</td>\n",
       "      <td>NaN</td>\n",
       "      <td>NaN</td>\n",
       "      <td>NaN</td>\n",
       "      <td>0</td>\n",
       "      <td>2022-09-11</td>\n",
       "      <td>https://icandid.libis.be/#/record/iCANDID_twitter_1568819006571958276</td>\n",
       "      <td>Twitter</td>\n",
       "      <td>Twitter</td>\n",
       "      <td>https://twitter.com/temp/status/1568819006571958276</td>\n",
       "      <td>NaN</td>\n",
       "      <td>IndianArmyPeoplesArmy, SHUTDOWN, HannahPangilinan, ZeePruk, Brahmastra, AbolishTheMonarchy, QueenElizabeth, USOpen</td>\n",
       "      <td>NaN</td>\n",
       "      <td>NaN</td>\n",
       "      <td>NaN</td>\n",
       "      <td>NaN</td>\n",
       "      <td>English</td>\n",
       "      <td>NaN</td>\n",
       "      <td>https://pbs.twimg.com/media/FcWQjtCakAEuniq.jpg, https://pbs.twimg.com/media/FcWQjtCakAEuniq.jpg</td>\n",
       "      <td>2023-02-13T14:14:44.930463305Z</td>\n",
       "      <td>2023-02-13T14:14:44.930463305Z</td>\n",
       "      <td>NaN</td>\n",
       "    </tr>\n",
       "    <tr>\n",
       "      <th>534962</th>\n",
       "      <td>iCANDID_twitter_1568819001391988736</td>\n",
       "      <td>Message</td>\n",
       "      <td>NaN</td>\n",
       "      <td>Awkward Monke</td>\n",
       "      <td>@AwkwardMonke</td>\n",
       "      <td>Relax guys, Our Majesty Queen is still alive.   #QueenElizabeth #QueenElizabethII @iHrithik https://t.co/w3EtN4UJET</td>\n",
       "      <td>NaN</td>\n",
       "      <td>NaN</td>\n",
       "      <td>Relax guys, Our Majesty Queen is still alive.   #QueenElizabeth #QueenElizabethII @iHrithik https://t.co/w3EtN4UJET</td>\n",
       "      <td>NaN</td>\n",
       "      <td>NaN</td>\n",
       "      <td>Awkward Monke</td>\n",
       "      <td>@AwkwardMonke</td>\n",
       "      <td>NaN</td>\n",
       "      <td>NaN</td>\n",
       "      <td>NaN</td>\n",
       "      <td>NaN</td>\n",
       "      <td>0</td>\n",
       "      <td>2022-09-11</td>\n",
       "      <td>https://icandid.libis.be/#/record/iCANDID_twitter_1568819001391988736</td>\n",
       "      <td>Twitter</td>\n",
       "      <td>Twitter</td>\n",
       "      <td>https://twitter.com/temp/status/1568819001391988736</td>\n",
       "      <td>NaN</td>\n",
       "      <td>QueenElizabeth, QueenElizabethII</td>\n",
       "      <td>Hrithik Roshan</td>\n",
       "      <td>NaN</td>\n",
       "      <td>NaN</td>\n",
       "      <td>NaN</td>\n",
       "      <td>English</td>\n",
       "      <td>NaN</td>\n",
       "      <td>https://pbs.twimg.com/media/FcWQj5iaUAYNBGp.jpg, https://pbs.twimg.com/media/FcWQj5iaUAYNBGp.jpg</td>\n",
       "      <td>2023-02-13T14:14:44.930653823Z</td>\n",
       "      <td>2023-02-13T14:14:44.930653823Z</td>\n",
       "      <td>NaN</td>\n",
       "    </tr>\n",
       "    <tr>\n",
       "      <th>534963</th>\n",
       "      <td>iCANDID_twitter_1568818426369409026</td>\n",
       "      <td>Message</td>\n",
       "      <td>NaN</td>\n",
       "      <td>Vincent Lanon</td>\n",
       "      <td>@vlanon</td>\n",
       "      <td>#QueenElizabeth https://t.co/81h8iodvkt</td>\n",
       "      <td>NaN</td>\n",
       "      <td>NaN</td>\n",
       "      <td>#QueenElizabeth https://t.co/81h8iodvkt</td>\n",
       "      <td>NaN</td>\n",
       "      <td>NaN</td>\n",
       "      <td>Vincent Lanon</td>\n",
       "      <td>@vlanon</td>\n",
       "      <td>NaN</td>\n",
       "      <td>NaN</td>\n",
       "      <td>NaN</td>\n",
       "      <td>NaN</td>\n",
       "      <td>0</td>\n",
       "      <td>2022-09-11</td>\n",
       "      <td>https://icandid.libis.be/#/record/iCANDID_twitter_1568818426369409026</td>\n",
       "      <td>Twitter</td>\n",
       "      <td>Twitter</td>\n",
       "      <td>https://twitter.com/temp/status/1568818426369409026</td>\n",
       "      <td>NaN</td>\n",
       "      <td>QueenElizabeth</td>\n",
       "      <td>NaN</td>\n",
       "      <td>NaN</td>\n",
       "      <td>NaN</td>\n",
       "      <td>NaN</td>\n",
       "      <td>Undetermined</td>\n",
       "      <td>NaN</td>\n",
       "      <td>https://pbs.twimg.com/media/FcWQCnUXoAIEtri.jpg, https://pbs.twimg.com/media/FcWQCnUXoAIEtri.jpg</td>\n",
       "      <td>2023-02-13T14:14:44.930839761Z</td>\n",
       "      <td>2023-02-13T14:14:44.930839761Z</td>\n",
       "      <td>NaN</td>\n",
       "    </tr>\n",
       "  </tbody>\n",
       "</table>\n",
       "</div>"
      ],
      "text/plain": [
       "                                         id     type  legislationType  \\\n",
       "534959  iCANDID_twitter_1568819543341940736  Message              NaN   \n",
       "534960  iCANDID_twitter_1568819257273716736  Message              NaN   \n",
       "534961  iCANDID_twitter_1568819006571958276  Message              NaN   \n",
       "534962  iCANDID_twitter_1568819001391988736  Message              NaN   \n",
       "534963  iCANDID_twitter_1568818426369409026  Message              NaN   \n",
       "\n",
       "                author author_alternateName  \\\n",
       "534959      Maria ♋🦀❤️        @fatgirlcutie   \n",
       "534960  simon macharia       @Simonmacha254   \n",
       "534961          Sajeed      @Sajeed63814075   \n",
       "534962   Awkward Monke        @AwkwardMonke   \n",
       "534963   Vincent Lanon              @vlanon   \n",
       "\n",
       "                                                                                                                                                                                                                                                                                                               name  \\\n",
       "534959  Hello Twitterville and all my followers. If you have a moment could you please subscribe to my YouTube channel ❤️ I would really appreciate it. My YouTube channel is thiccmaria40 #D23Expo2022 #CadizBarca #Ukraine #KingCharlesIII #QueenElizabeth #TikTok #SlavaUkraini #kufball https://t.co/bIfJp645S5   \n",
       "534960                                                                                                                                                                                                                     it's my birthday 🎂🎂🎂 thank you God  #birthdayboy #QueenElizabeth https://t.co/YlEUgmvn70   \n",
       "534961                                                                          Jammu-Kashmir: Section 144 imposed in Rajouri following row between two communities  #IndianArmyPeoplesArmy #SHUTDOWN #HannahPangilinan #ZeePruk #Brahmastra    #AbolishTheMonarchy #QueenElizabeth #USOpen https://t.co/OrGiMqUSYw   \n",
       "534962                                                                                                                                                                                          Relax guys, Our Majesty Queen is still alive.   #QueenElizabeth #QueenElizabethII @iHrithik https://t.co/w3EtN4UJET   \n",
       "534963                                                                                                                                                                                                                                                                      #QueenElizabeth https://t.co/81h8iodvkt   \n",
       "\n",
       "        description  articleBody  \\\n",
       "534959          NaN          NaN   \n",
       "534960          NaN          NaN   \n",
       "534961          NaN          NaN   \n",
       "534962          NaN          NaN   \n",
       "534963          NaN          NaN   \n",
       "\n",
       "                                                                                                                                                                                                                                                                                                               text  \\\n",
       "534959  Hello Twitterville and all my followers. If you have a moment could you please subscribe to my YouTube channel ❤️ I would really appreciate it. My YouTube channel is thiccmaria40 #D23Expo2022 #CadizBarca #Ukraine #KingCharlesIII #QueenElizabeth #TikTok #SlavaUkraini #kufball https://t.co/bIfJp645S5   \n",
       "534960                                                                                                                                                                                                                     it's my birthday 🎂🎂🎂 thank you God  #birthdayboy #QueenElizabeth https://t.co/YlEUgmvn70   \n",
       "534961                                                                          Jammu-Kashmir: Section 144 imposed in Rajouri following row between two communities  #IndianArmyPeoplesArmy #SHUTDOWN #HannahPangilinan #ZeePruk #Brahmastra    #AbolishTheMonarchy #QueenElizabeth #USOpen https://t.co/OrGiMqUSYw   \n",
       "534962                                                                                                                                                                                          Relax guys, Our Majesty Queen is still alive.   #QueenElizabeth #QueenElizabethII @iHrithik https://t.co/w3EtN4UJET   \n",
       "534963                                                                                                                                                                                                                                                                      #QueenElizabeth https://t.co/81h8iodvkt   \n",
       "\n",
       "        printEdition  articleSection          sender sender_alternateName  \\\n",
       "534959           NaN             NaN      Maria ♋🦀❤️        @fatgirlcutie   \n",
       "534960           NaN             NaN  simon macharia       @Simonmacha254   \n",
       "534961           NaN             NaN          Sajeed      @Sajeed63814075   \n",
       "534962           NaN             NaN   Awkward Monke        @AwkwardMonke   \n",
       "534963           NaN             NaN   Vincent Lanon              @vlanon   \n",
       "\n",
       "       recipient recipient_alternateName  legislationPassedBy  \\\n",
       "534959       NaN                     NaN                  NaN   \n",
       "534960       NaN                     NaN                  NaN   \n",
       "534961       NaN                     NaN                  NaN   \n",
       "534962       NaN                     NaN                  NaN   \n",
       "534963       NaN                     NaN                  NaN   \n",
       "\n",
       "        legislationResponsible  retweet datePublished  \\\n",
       "534959                     NaN        0    2022-09-11   \n",
       "534960                     NaN        0    2022-09-11   \n",
       "534961                     NaN        0    2022-09-11   \n",
       "534962                     NaN        0    2022-09-11   \n",
       "534963                     NaN        0    2022-09-11   \n",
       "\n",
       "                                                                          url  \\\n",
       "534959  https://icandid.libis.be/#/record/iCANDID_twitter_1568819543341940736   \n",
       "534960  https://icandid.libis.be/#/record/iCANDID_twitter_1568819257273716736   \n",
       "534961  https://icandid.libis.be/#/record/iCANDID_twitter_1568819006571958276   \n",
       "534962  https://icandid.libis.be/#/record/iCANDID_twitter_1568819001391988736   \n",
       "534963  https://icandid.libis.be/#/record/iCANDID_twitter_1568818426369409026   \n",
       "\n",
       "       provider publisher  \\\n",
       "534959  Twitter   Twitter   \n",
       "534960  Twitter   Twitter   \n",
       "534961  Twitter   Twitter   \n",
       "534962  Twitter   Twitter   \n",
       "534963  Twitter   Twitter   \n",
       "\n",
       "                                                       link  pagination  \\\n",
       "534959  https://twitter.com/temp/status/1568819543341940736         NaN   \n",
       "534960  https://twitter.com/temp/status/1568819257273716736         NaN   \n",
       "534961  https://twitter.com/temp/status/1568819006571958276         NaN   \n",
       "534962  https://twitter.com/temp/status/1568819001391988736         NaN   \n",
       "534963  https://twitter.com/temp/status/1568818426369409026         NaN   \n",
       "\n",
       "                                                                                                           publicationdate  \\\n",
       "534959                     D23Expo2022, CadizBarca, Ukraine, KingCharlesIII, QueenElizabeth, TikTok, SlavaUkraini, kufball   \n",
       "534960                                                                                         birthdayboy, QueenElizabeth   \n",
       "534961  IndianArmyPeoplesArmy, SHUTDOWN, HannahPangilinan, ZeePruk, Brahmastra, AbolishTheMonarchy, QueenElizabeth, USOpen   \n",
       "534962                                                                                    QueenElizabeth, QueenElizabethII   \n",
       "534963                                                                                                      QueenElizabeth   \n",
       "\n",
       "              keywords  mentions  duration  contentUrl         about  \\\n",
       "534959             NaN       NaN       NaN         NaN       English   \n",
       "534960             NaN       NaN       NaN         NaN       English   \n",
       "534961             NaN       NaN       NaN         NaN       English   \n",
       "534962  Hrithik Roshan       NaN       NaN         NaN       English   \n",
       "534963             NaN       NaN       NaN         NaN  Undetermined   \n",
       "\n",
       "       inLanguage  \\\n",
       "534959        NaN   \n",
       "534960        NaN   \n",
       "534961        NaN   \n",
       "534962        NaN   \n",
       "534963        NaN   \n",
       "\n",
       "                                                                                         contentLocation  \\\n",
       "534959          https://pbs.twimg.com/ext_tw_video_thumb/1568819477877252096/pu/img/1kMZi4iA7nsF_A9y.jpg   \n",
       "534960  https://pbs.twimg.com/media/FcWQyy5XgAAVWOL.jpg, https://pbs.twimg.com/media/FcWQyy5XgAAVWOL.jpg   \n",
       "534961  https://pbs.twimg.com/media/FcWQjtCakAEuniq.jpg, https://pbs.twimg.com/media/FcWQjtCakAEuniq.jpg   \n",
       "534962  https://pbs.twimg.com/media/FcWQj5iaUAYNBGp.jpg, https://pbs.twimg.com/media/FcWQj5iaUAYNBGp.jpg   \n",
       "534963  https://pbs.twimg.com/media/FcWQCnUXoAIEtri.jpg, https://pbs.twimg.com/media/FcWQCnUXoAIEtri.jpg   \n",
       "\n",
       "                       associatedMedia                 sdDatePublished  \\\n",
       "534959  2023-02-13T14:14:44.930081295Z  2023-02-13T14:14:44.930081295Z   \n",
       "534960  2023-02-13T14:14:44.930291875Z  2023-02-13T14:14:44.930291875Z   \n",
       "534961  2023-02-13T14:14:44.930463305Z  2023-02-13T14:14:44.930463305Z   \n",
       "534962  2023-02-13T14:14:44.930653823Z  2023-02-13T14:14:44.930653823Z   \n",
       "534963  2023-02-13T14:14:44.930839761Z  2023-02-13T14:14:44.930839761Z   \n",
       "\n",
       "        updatetime  \n",
       "534959         NaN  \n",
       "534960         NaN  \n",
       "534961         NaN  \n",
       "534962         NaN  \n",
       "534963         NaN  "
      ]
     },
     "execution_count": 4,
     "metadata": {},
     "output_type": "execute_result"
    }
   ],
   "source": [
    "rawdata.tail(5)"
   ]
  },
  {
   "cell_type": "markdown",
   "id": "36e80337",
   "metadata": {},
   "source": [
    "<h2>Removing unnessecary data</h2>\n",
    "<p>Some things stand out from observing the data.</p>\n",
    "    <ul>\n",
    "        <li>First of all, some columns contain the same data, such as 'author' and 'sender'. We can remove one of these keep our dataset organized.</li>\n",
    "        <li>A lot of columns also appear to be empty, such as 'articleBody' and a bunch of legal columns.</li> \n",
    "        <li>The 'associatedMedia' column contains a recent date, perhaps when the dataset was created. </li>\n",
    "        <li>Unfortunately, the 'retweets' columnn is also empty. We don't seem to have information about engagement.</li>\n",
    "    </ul>\n",
    "    <p>Since I don't think we'll need any of this, let's remove all unrelated columns in a new dataframe called 'cleandata'. That way we can easily refer back to the original data in case we accidentally removed something useful.</p>"
   ]
  },
  {
   "cell_type": "code",
   "execution_count": 5,
   "id": "15f704a6",
   "metadata": {},
   "outputs": [],
   "source": [
    "cleandata = rawdata.drop(['sender', 'sender_alternateName', 'description', 'legislationType', 'recipient', 'recipient_alternateName', 'type', 'legislationPassedBy', 'legislationResponsible', 'articleBody','printEdition','articleSection', 'name', 'retweet', 'url', 'provider', 'publisher', 'pagination', 'mentions', 'duration', 'contentUrl', 'inLanguage', 'associatedMedia', 'sdDatePublished', 'updatetime'], axis=1)"
   ]
  },
  {
   "cell_type": "markdown",
   "id": "e779b9aa",
   "metadata": {},
   "source": [
    "<p>Note that you can always use the 'head' or 'tail' function to explore the dataset! But before we do that, there are some columns of which the labels do not describe what's inside. For example, the 'about' column contains the language of the tweet. Let's rename some columns to make our dataset easier to interpret at a glance.</p>"
   ]
  },
  {
   "cell_type": "code",
   "execution_count": 6,
   "id": "59f7e39b",
   "metadata": {},
   "outputs": [],
   "source": [
    "cleandata.rename(columns={\"author_alternateName\": \"authorhandle\", \"link\": \"permalink\", \"name\": \"tweet\",\"datePublished\": \"publicationdate\", \"about\": \"language\", \"text\": \"tweet\", \"publicationdate\": \"hashtags\", \"contentLocation\": \"images\"}, inplace=True)"
   ]
  },
  {
   "cell_type": "code",
   "execution_count": 7,
   "id": "4ab86680",
   "metadata": {
    "scrolled": true
   },
   "outputs": [
    {
     "data": {
      "text/html": [
       "<div>\n",
       "<style scoped>\n",
       "    .dataframe tbody tr th:only-of-type {\n",
       "        vertical-align: middle;\n",
       "    }\n",
       "\n",
       "    .dataframe tbody tr th {\n",
       "        vertical-align: top;\n",
       "    }\n",
       "\n",
       "    .dataframe thead th {\n",
       "        text-align: right;\n",
       "    }\n",
       "</style>\n",
       "<table border=\"1\" class=\"dataframe\">\n",
       "  <thead>\n",
       "    <tr style=\"text-align: right;\">\n",
       "      <th></th>\n",
       "      <th>id</th>\n",
       "      <th>author</th>\n",
       "      <th>authorhandle</th>\n",
       "      <th>tweet</th>\n",
       "      <th>publicationdate</th>\n",
       "      <th>permalink</th>\n",
       "      <th>hashtags</th>\n",
       "      <th>keywords</th>\n",
       "      <th>language</th>\n",
       "      <th>images</th>\n",
       "    </tr>\n",
       "  </thead>\n",
       "  <tbody>\n",
       "    <tr>\n",
       "      <th>0</th>\n",
       "      <td>iCANDID_twitter_1568208936423096321</td>\n",
       "      <td>La Libre</td>\n",
       "      <td>@lalibrebe</td>\n",
       "      <td>🔴Charles III prononcera son premier discours à 18 heures.  🗞️Suivez notre direct ici : https://t.co/d34PIciBYe   #QueenElizabeth #CharlesIII #Londres #buckinghampalace https://t.co/McccCEX11p</td>\n",
       "      <td>2022-09-09</td>\n",
       "      <td>https://twitter.com/temp/status/1568208936423096321</td>\n",
       "      <td>QueenElizabeth, CharlesIII, Londres, buckinghampalace</td>\n",
       "      <td>NaN</td>\n",
       "      <td>French</td>\n",
       "      <td>https://pbs.twimg.com/media/FcNlMOYWAAQSGDp.jpg, https://pbs.twimg.com/media/FcNlMOYWAAQSGDp.jpg</td>\n",
       "    </tr>\n",
       "    <tr>\n",
       "      <th>1</th>\n",
       "      <td>iCANDID_twitter_1567852288735059970</td>\n",
       "      <td>L'Echo</td>\n",
       "      <td>@lecho</td>\n",
       "      <td>La santé de la reine #ElizabethII inquiète, Charles et William se rendent à sa résidence ➡ https://t.co/PwsO6pgZcP ✍️ Par @CamBerkenbaum | #RoyaumeUni #UK #QueenElizabeth https://t.co/9Pl3B1Mtim</td>\n",
       "      <td>2022-09-08</td>\n",
       "      <td>https://twitter.com/temp/status/1567852288735059970</td>\n",
       "      <td>ElizabethII, RoyaumeUni, UK, QueenElizabeth</td>\n",
       "      <td>Camille Berkenbaum</td>\n",
       "      <td>French</td>\n",
       "      <td>https://pbs.twimg.com/media/FcIhEC_XkAgIP1L.jpg, https://pbs.twimg.com/media/FcIhEC_XkAgIP1L.jpg</td>\n",
       "    </tr>\n",
       "    <tr>\n",
       "      <th>2</th>\n",
       "      <td>iCANDID_twitter_1567929575111532544</td>\n",
       "      <td>jamal small d democrat</td>\n",
       "      <td>@jagallow</td>\n",
       "      <td>In blessed memory Queen Elizabth II #QueenElizabeth</td>\n",
       "      <td>2022-09-08</td>\n",
       "      <td>https://twitter.com/temp/status/1567929575111532544</td>\n",
       "      <td>QueenElizabeth</td>\n",
       "      <td>NaN</td>\n",
       "      <td>English</td>\n",
       "      <td>NaN</td>\n",
       "    </tr>\n",
       "    <tr>\n",
       "      <th>3</th>\n",
       "      <td>iCANDID_twitter_1567929574985457664</td>\n",
       "      <td>Henna (Available now)</td>\n",
       "      <td>@hennalilacstar</td>\n",
       "      <td>I can't #QueenElizabeth RIP💔</td>\n",
       "      <td>2022-09-08</td>\n",
       "      <td>https://twitter.com/temp/status/1567929574985457664</td>\n",
       "      <td>QueenElizabeth</td>\n",
       "      <td>NaN</td>\n",
       "      <td>English</td>\n",
       "      <td>NaN</td>\n",
       "    </tr>\n",
       "    <tr>\n",
       "      <th>4</th>\n",
       "      <td>iCANDID_twitter_1567929574826323974</td>\n",
       "      <td>Ivan</td>\n",
       "      <td>@Zeldris117</td>\n",
       "      <td>Rest in peace.  We will miss you #QueenElizabeth https://t.co/8oXjqme5Zl</td>\n",
       "      <td>2022-09-08</td>\n",
       "      <td>https://twitter.com/temp/status/1567929574826323974</td>\n",
       "      <td>QueenElizabeth</td>\n",
       "      <td>NaN</td>\n",
       "      <td>English</td>\n",
       "      <td>https://pbs.twimg.com/tweet_video_thumb/FcJnojVWAAIJsJO.jpg</td>\n",
       "    </tr>\n",
       "  </tbody>\n",
       "</table>\n",
       "</div>"
      ],
      "text/plain": [
       "                                    id                  author  \\\n",
       "0  iCANDID_twitter_1568208936423096321                La Libre   \n",
       "1  iCANDID_twitter_1567852288735059970                  L'Echo   \n",
       "2  iCANDID_twitter_1567929575111532544  jamal small d democrat   \n",
       "3  iCANDID_twitter_1567929574985457664   Henna (Available now)   \n",
       "4  iCANDID_twitter_1567929574826323974                    Ivan   \n",
       "\n",
       "      authorhandle  \\\n",
       "0       @lalibrebe   \n",
       "1           @lecho   \n",
       "2        @jagallow   \n",
       "3  @hennalilacstar   \n",
       "4      @Zeldris117   \n",
       "\n",
       "                                                                                                                                                                                                tweet  \\\n",
       "0     🔴Charles III prononcera son premier discours à 18 heures.  🗞️Suivez notre direct ici : https://t.co/d34PIciBYe   #QueenElizabeth #CharlesIII #Londres #buckinghampalace https://t.co/McccCEX11p   \n",
       "1  La santé de la reine #ElizabethII inquiète, Charles et William se rendent à sa résidence ➡ https://t.co/PwsO6pgZcP ✍️ Par @CamBerkenbaum | #RoyaumeUni #UK #QueenElizabeth https://t.co/9Pl3B1Mtim   \n",
       "2                                                                                                                                                 In blessed memory Queen Elizabth II #QueenElizabeth   \n",
       "3                                                                                                                                                                        I can't #QueenElizabeth RIP💔   \n",
       "4                                                                                                                            Rest in peace.  We will miss you #QueenElizabeth https://t.co/8oXjqme5Zl   \n",
       "\n",
       "  publicationdate                                            permalink  \\\n",
       "0      2022-09-09  https://twitter.com/temp/status/1568208936423096321   \n",
       "1      2022-09-08  https://twitter.com/temp/status/1567852288735059970   \n",
       "2      2022-09-08  https://twitter.com/temp/status/1567929575111532544   \n",
       "3      2022-09-08  https://twitter.com/temp/status/1567929574985457664   \n",
       "4      2022-09-08  https://twitter.com/temp/status/1567929574826323974   \n",
       "\n",
       "                                                hashtags            keywords  \\\n",
       "0  QueenElizabeth, CharlesIII, Londres, buckinghampalace                 NaN   \n",
       "1            ElizabethII, RoyaumeUni, UK, QueenElizabeth  Camille Berkenbaum   \n",
       "2                                         QueenElizabeth                 NaN   \n",
       "3                                         QueenElizabeth                 NaN   \n",
       "4                                         QueenElizabeth                 NaN   \n",
       "\n",
       "  language  \\\n",
       "0   French   \n",
       "1   French   \n",
       "2  English   \n",
       "3  English   \n",
       "4  English   \n",
       "\n",
       "                                                                                             images  \n",
       "0  https://pbs.twimg.com/media/FcNlMOYWAAQSGDp.jpg, https://pbs.twimg.com/media/FcNlMOYWAAQSGDp.jpg  \n",
       "1  https://pbs.twimg.com/media/FcIhEC_XkAgIP1L.jpg, https://pbs.twimg.com/media/FcIhEC_XkAgIP1L.jpg  \n",
       "2                                                                                               NaN  \n",
       "3                                                                                               NaN  \n",
       "4                                       https://pbs.twimg.com/tweet_video_thumb/FcJnojVWAAIJsJO.jpg  "
      ]
     },
     "execution_count": 7,
     "metadata": {},
     "output_type": "execute_result"
    }
   ],
   "source": [
    "cleandata.head(5)"
   ]
  },
  {
   "cell_type": "markdown",
   "id": "cc2e2cad",
   "metadata": {},
   "source": [
    "<h2>Filtering out the English tweets</h2>"
   ]
  },
  {
   "cell_type": "markdown",
   "id": "0dd4bb4a",
   "metadata": {},
   "source": [
    "<p>Since we'll only be working on the English data for now, we can create a separate dataframe using just those tweets using pandas' filter function.</p>"
   ]
  },
  {
   "cell_type": "code",
   "execution_count": 8,
   "id": "284c89ec",
   "metadata": {},
   "outputs": [],
   "source": [
    "englishdata = cleandata[cleandata['language'] == 'English']"
   ]
  },
  {
   "cell_type": "markdown",
   "id": "8293e95c",
   "metadata": {},
   "source": [
    "<p>How many tweets does that give us? The 'len' function can tell us how many rows we have in our new dataframe.</p>"
   ]
  },
  {
   "cell_type": "code",
   "execution_count": 9,
   "id": "a4cd73cf",
   "metadata": {},
   "outputs": [
    {
     "data": {
      "text/plain": [
       "301726"
      ]
     },
     "execution_count": 9,
     "metadata": {},
     "output_type": "execute_result"
    }
   ],
   "source": [
    "len(englishdata)"
   ]
  },
  {
   "cell_type": "code",
   "execution_count": 10,
   "id": "2b74a78b",
   "metadata": {},
   "outputs": [
    {
     "data": {
      "text/plain": [
       "Index(['id', 'author', 'authorhandle', 'tweet', 'publicationdate', 'permalink',\n",
       "       'hashtags', 'keywords', 'language', 'images'],\n",
       "      dtype='object')"
      ]
     },
     "execution_count": 10,
     "metadata": {},
     "output_type": "execute_result"
    }
   ],
   "source": [
    "englishdata.columns"
   ]
  },
  {
   "cell_type": "markdown",
   "id": "52abd24f",
   "metadata": {},
   "source": [
    "<p>Let's save this file so that we can start from there for our next analyses!</p>"
   ]
  },
  {
   "cell_type": "code",
   "execution_count": 11,
   "id": "3679a8c0",
   "metadata": {},
   "outputs": [],
   "source": [
    "englishdata.to_csv('englishtweets.csv')  "
   ]
  },
  {
   "cell_type": "markdown",
   "id": "3f8e2d54",
   "metadata": {},
   "source": [
    "<h2>Tweet frequency</h2>"
   ]
  },
  {
   "cell_type": "markdown",
   "id": "ab75e9b4",
   "metadata": {},
   "source": [
    "To get an overview of the distribution over time of the tweets in our corpus, let's make a graph. We're again using the pandas library to easily filter our data. We're making the graph with plotly, which has some functions to customize the layout so that it fits the branding of our project.\n",
    "\n",
    "First, let's have a look at the overall frequency of the tweets over time. We're starting our visualization on the 8th, the day the Queen died."
   ]
  },
  {
   "cell_type": "code",
   "execution_count": 1,
   "id": "3a2b3161",
   "metadata": {},
   "outputs": [],
   "source": [
    "import pandas as pd\n",
    "import plotly.graph_objs as go\n",
    "\n",
    "# Load the CSV file into a Pandas dataframe\n",
    "tweets_df = pd.read_csv('englishtweets.csv')\n"
   ]
  },
  {
   "cell_type": "code",
   "execution_count": 2,
   "id": "34b29c8f",
   "metadata": {},
   "outputs": [],
   "source": [
    "#We're adding some general lay-out settings here so we can quickly change colors of multiple items\n",
    "linecolor='rgba(230, 230, 250, 1)' #for the first graph\n",
    "linecolor1='rgba(216, 191, 216, 1)' #for the first hashtag of the second graph\n",
    "linecolor2='rgba(221, 160, 221, 1)' #for the second hashtag of the second graph\n",
    "linecolor3='rgba(255, 221, 244, 1)' #for the third hashtag of the second graph\n",
    "transparant='rgba(0,0,0,0)'\n",
    "notefontcolor='white'\n",
    "notebgcolor='rgba(255,255,255,0.5)'\n",
    "labelfontcolor='white'\n",
    "labelbgcolor='rgba(230, 230, 250, 0.8)'\n",
    "ayvalue=-60"
   ]
  },
  {
   "cell_type": "code",
   "execution_count": 54,
   "id": "6dcd9e82",
   "metadata": {},
   "outputs": [
    {
     "data": {
      "application/vnd.plotly.v1+json": {
       "config": {
        "plotlyServerURL": "https://plot.ly"
       },
       "data": [
        {
         "line": {
          "color": "rgba(230, 230, 250, 1)"
         },
         "mode": "lines+markers",
         "type": "scatter",
         "x": [
          "2022-09-08T00:00:00",
          "2022-09-09T00:00:00",
          "2022-09-10T00:00:00",
          "2022-09-11T00:00:00",
          "2022-09-12T00:00:00",
          "2022-09-13T00:00:00",
          "2022-09-14T00:00:00",
          "2022-09-15T00:00:00",
          "2022-09-16T00:00:00",
          "2022-09-17T00:00:00",
          "2022-09-18T00:00:00",
          "2022-09-19T00:00:00"
         ],
         "y": [
          129889,
          67025,
          25626,
          12442,
          7675,
          6775,
          8591,
          7294,
          7311,
          6206,
          6289,
          14839
         ]
        }
       ],
       "layout": {
        "annotations": [
         {
          "bgcolor": "rgba(230, 230, 250, 0.8)",
          "font": {
           "color": "white",
           "size": 18
          },
          "showarrow": false,
          "text": "129889",
          "x": "2022-09-08T00:00:00",
          "y": 129889,
          "yshift": 10
         },
         {
          "bgcolor": "rgba(230, 230, 250, 0.8)",
          "font": {
           "color": "white",
           "size": 18
          },
          "showarrow": false,
          "text": "67025",
          "x": "2022-09-09T00:00:00",
          "y": 67025,
          "yshift": 10
         },
         {
          "bgcolor": "rgba(230, 230, 250, 0.8)",
          "font": {
           "color": "white",
           "size": 18
          },
          "showarrow": false,
          "text": "25626",
          "x": "2022-09-10T00:00:00",
          "y": 25626,
          "yshift": 10
         },
         {
          "bgcolor": "rgba(230, 230, 250, 0.8)",
          "font": {
           "color": "white",
           "size": 18
          },
          "showarrow": false,
          "text": "12442",
          "x": "2022-09-11T00:00:00",
          "y": 12442,
          "yshift": 10
         },
         {
          "bgcolor": "rgba(230, 230, 250, 0.8)",
          "font": {
           "color": "white",
           "size": 18
          },
          "showarrow": false,
          "text": "7675",
          "x": "2022-09-12T00:00:00",
          "y": 7675,
          "yshift": 10
         },
         {
          "bgcolor": "rgba(230, 230, 250, 0.8)",
          "font": {
           "color": "white",
           "size": 18
          },
          "showarrow": false,
          "text": "6775",
          "x": "2022-09-13T00:00:00",
          "y": 6775,
          "yshift": 10
         },
         {
          "bgcolor": "rgba(230, 230, 250, 0.8)",
          "font": {
           "color": "white",
           "size": 18
          },
          "showarrow": false,
          "text": "8591",
          "x": "2022-09-14T00:00:00",
          "y": 8591,
          "yshift": 10
         },
         {
          "bgcolor": "rgba(230, 230, 250, 0.8)",
          "font": {
           "color": "white",
           "size": 18
          },
          "showarrow": false,
          "text": "7294",
          "x": "2022-09-15T00:00:00",
          "y": 7294,
          "yshift": 10
         },
         {
          "bgcolor": "rgba(230, 230, 250, 0.8)",
          "font": {
           "color": "white",
           "size": 18
          },
          "showarrow": false,
          "text": "7311",
          "x": "2022-09-16T00:00:00",
          "y": 7311,
          "yshift": 10
         },
         {
          "bgcolor": "rgba(230, 230, 250, 0.8)",
          "font": {
           "color": "white",
           "size": 18
          },
          "showarrow": false,
          "text": "6206",
          "x": "2022-09-17T00:00:00",
          "y": 6206,
          "yshift": 10
         },
         {
          "bgcolor": "rgba(230, 230, 250, 0.8)",
          "font": {
           "color": "white",
           "size": 18
          },
          "showarrow": false,
          "text": "6289",
          "x": "2022-09-18T00:00:00",
          "y": 6289,
          "yshift": 10
         },
         {
          "bgcolor": "rgba(230, 230, 250, 0.8)",
          "font": {
           "color": "white",
           "size": 18
          },
          "showarrow": false,
          "text": "14839",
          "x": "2022-09-19T00:00:00",
          "y": 14839,
          "yshift": 10
         },
         {
          "align": "center",
          "arrowcolor": "mediumorchid",
          "arrowhead": 2,
          "arrowwidth": 1,
          "ax": 0,
          "ay": -20,
          "bgcolor": "rgba(255,255,255,0.5)",
          "font": {
           "color": "white",
           "family": "Helvetica",
           "size": 14
          },
          "showarrow": true,
          "text": "D-day",
          "x": "2022-09-08",
          "xanchor": "center",
          "xshift": 0,
          "y": 129889,
          "yanchor": "bottom",
          "yshift": 20
         },
         {
          "align": "center",
          "arrowcolor": "mediumorchid",
          "arrowhead": 2,
          "arrowwidth": 1,
          "ax": 0,
          "ay": -20,
          "bgcolor": "rgba(255,255,255,0.5)",
          "font": {
           "color": "white",
           "family": "Helvetica",
           "size": 14
          },
          "showarrow": true,
          "text": "Charles becomes King",
          "x": "2022-09-10",
          "xanchor": "center",
          "xshift": 0,
          "y": 25626,
          "yanchor": "bottom",
          "yshift": 20
         },
         {
          "align": "center",
          "arrowcolor": "mediumorchid",
          "arrowhead": 2,
          "arrowwidth": 1,
          "ax": 0,
          "ay": -20,
          "bgcolor": "rgba(255,255,255,0.5)",
          "font": {
           "color": "white",
           "family": "Helvetica",
           "size": 14
          },
          "showarrow": true,
          "text": "Coffin goes to Edinburgh",
          "x": "2022-09-14",
          "xanchor": "center",
          "xshift": 0,
          "y": 8591,
          "yanchor": "bottom",
          "yshift": 20
         },
         {
          "align": "center",
          "arrowcolor": "mediumorchid",
          "arrowhead": 2,
          "arrowwidth": 1,
          "ax": 0,
          "ay": -40,
          "bgcolor": "rgba(255,255,255,0.5)",
          "font": {
           "color": "white",
           "family": "Helvetica",
           "size": 14
          },
          "showarrow": true,
          "text": "King goes to Wales",
          "x": "2022-09-16",
          "xanchor": "center",
          "xshift": 0,
          "y": 7311,
          "yanchor": "bottom",
          "yshift": 20
         },
         {
          "align": "center",
          "arrowcolor": "mediumorchid",
          "arrowhead": 2,
          "arrowwidth": 1,
          "ax": 0,
          "ay": -20,
          "bgcolor": "rgba(255,255,255,0.5)",
          "font": {
           "color": "white",
           "family": "Helvetica",
           "size": 14
          },
          "showarrow": true,
          "text": "Biden pays respects",
          "x": "2022-09-18",
          "xanchor": "center",
          "xshift": 0,
          "y": 6289,
          "yanchor": "bottom",
          "yshift": 20
         },
         {
          "align": "center",
          "arrowcolor": "mediumorchid",
          "arrowhead": 2,
          "arrowwidth": 1,
          "ax": 0,
          "ay": -40,
          "bgcolor": "rgba(255,255,255,0.5)",
          "font": {
           "color": "white",
           "family": "Helvetica",
           "size": 14
          },
          "showarrow": true,
          "text": "Funeral",
          "x": "2022-09-19",
          "xanchor": "center",
          "xshift": 0,
          "y": 14839,
          "yanchor": "bottom",
          "yshift": 20
         }
        ],
        "font": {
         "color": "white",
         "family": "Helvetica",
         "size": 18
        },
        "paper_bgcolor": "rgba(0,0,0,0)",
        "plot_bgcolor": "rgba(0,0,0,0)",
        "template": {
         "data": {
          "bar": [
           {
            "error_x": {
             "color": "#2a3f5f"
            },
            "error_y": {
             "color": "#2a3f5f"
            },
            "marker": {
             "line": {
              "color": "#E5ECF6",
              "width": 0.5
             },
             "pattern": {
              "fillmode": "overlay",
              "size": 10,
              "solidity": 0.2
             }
            },
            "type": "bar"
           }
          ],
          "barpolar": [
           {
            "marker": {
             "line": {
              "color": "#E5ECF6",
              "width": 0.5
             },
             "pattern": {
              "fillmode": "overlay",
              "size": 10,
              "solidity": 0.2
             }
            },
            "type": "barpolar"
           }
          ],
          "carpet": [
           {
            "aaxis": {
             "endlinecolor": "#2a3f5f",
             "gridcolor": "white",
             "linecolor": "white",
             "minorgridcolor": "white",
             "startlinecolor": "#2a3f5f"
            },
            "baxis": {
             "endlinecolor": "#2a3f5f",
             "gridcolor": "white",
             "linecolor": "white",
             "minorgridcolor": "white",
             "startlinecolor": "#2a3f5f"
            },
            "type": "carpet"
           }
          ],
          "choropleth": [
           {
            "colorbar": {
             "outlinewidth": 0,
             "ticks": ""
            },
            "type": "choropleth"
           }
          ],
          "contour": [
           {
            "colorbar": {
             "outlinewidth": 0,
             "ticks": ""
            },
            "colorscale": [
             [
              0,
              "#0d0887"
             ],
             [
              0.1111111111111111,
              "#46039f"
             ],
             [
              0.2222222222222222,
              "#7201a8"
             ],
             [
              0.3333333333333333,
              "#9c179e"
             ],
             [
              0.4444444444444444,
              "#bd3786"
             ],
             [
              0.5555555555555556,
              "#d8576b"
             ],
             [
              0.6666666666666666,
              "#ed7953"
             ],
             [
              0.7777777777777778,
              "#fb9f3a"
             ],
             [
              0.8888888888888888,
              "#fdca26"
             ],
             [
              1,
              "#f0f921"
             ]
            ],
            "type": "contour"
           }
          ],
          "contourcarpet": [
           {
            "colorbar": {
             "outlinewidth": 0,
             "ticks": ""
            },
            "type": "contourcarpet"
           }
          ],
          "heatmap": [
           {
            "colorbar": {
             "outlinewidth": 0,
             "ticks": ""
            },
            "colorscale": [
             [
              0,
              "#0d0887"
             ],
             [
              0.1111111111111111,
              "#46039f"
             ],
             [
              0.2222222222222222,
              "#7201a8"
             ],
             [
              0.3333333333333333,
              "#9c179e"
             ],
             [
              0.4444444444444444,
              "#bd3786"
             ],
             [
              0.5555555555555556,
              "#d8576b"
             ],
             [
              0.6666666666666666,
              "#ed7953"
             ],
             [
              0.7777777777777778,
              "#fb9f3a"
             ],
             [
              0.8888888888888888,
              "#fdca26"
             ],
             [
              1,
              "#f0f921"
             ]
            ],
            "type": "heatmap"
           }
          ],
          "heatmapgl": [
           {
            "colorbar": {
             "outlinewidth": 0,
             "ticks": ""
            },
            "colorscale": [
             [
              0,
              "#0d0887"
             ],
             [
              0.1111111111111111,
              "#46039f"
             ],
             [
              0.2222222222222222,
              "#7201a8"
             ],
             [
              0.3333333333333333,
              "#9c179e"
             ],
             [
              0.4444444444444444,
              "#bd3786"
             ],
             [
              0.5555555555555556,
              "#d8576b"
             ],
             [
              0.6666666666666666,
              "#ed7953"
             ],
             [
              0.7777777777777778,
              "#fb9f3a"
             ],
             [
              0.8888888888888888,
              "#fdca26"
             ],
             [
              1,
              "#f0f921"
             ]
            ],
            "type": "heatmapgl"
           }
          ],
          "histogram": [
           {
            "marker": {
             "pattern": {
              "fillmode": "overlay",
              "size": 10,
              "solidity": 0.2
             }
            },
            "type": "histogram"
           }
          ],
          "histogram2d": [
           {
            "colorbar": {
             "outlinewidth": 0,
             "ticks": ""
            },
            "colorscale": [
             [
              0,
              "#0d0887"
             ],
             [
              0.1111111111111111,
              "#46039f"
             ],
             [
              0.2222222222222222,
              "#7201a8"
             ],
             [
              0.3333333333333333,
              "#9c179e"
             ],
             [
              0.4444444444444444,
              "#bd3786"
             ],
             [
              0.5555555555555556,
              "#d8576b"
             ],
             [
              0.6666666666666666,
              "#ed7953"
             ],
             [
              0.7777777777777778,
              "#fb9f3a"
             ],
             [
              0.8888888888888888,
              "#fdca26"
             ],
             [
              1,
              "#f0f921"
             ]
            ],
            "type": "histogram2d"
           }
          ],
          "histogram2dcontour": [
           {
            "colorbar": {
             "outlinewidth": 0,
             "ticks": ""
            },
            "colorscale": [
             [
              0,
              "#0d0887"
             ],
             [
              0.1111111111111111,
              "#46039f"
             ],
             [
              0.2222222222222222,
              "#7201a8"
             ],
             [
              0.3333333333333333,
              "#9c179e"
             ],
             [
              0.4444444444444444,
              "#bd3786"
             ],
             [
              0.5555555555555556,
              "#d8576b"
             ],
             [
              0.6666666666666666,
              "#ed7953"
             ],
             [
              0.7777777777777778,
              "#fb9f3a"
             ],
             [
              0.8888888888888888,
              "#fdca26"
             ],
             [
              1,
              "#f0f921"
             ]
            ],
            "type": "histogram2dcontour"
           }
          ],
          "mesh3d": [
           {
            "colorbar": {
             "outlinewidth": 0,
             "ticks": ""
            },
            "type": "mesh3d"
           }
          ],
          "parcoords": [
           {
            "line": {
             "colorbar": {
              "outlinewidth": 0,
              "ticks": ""
             }
            },
            "type": "parcoords"
           }
          ],
          "pie": [
           {
            "automargin": true,
            "type": "pie"
           }
          ],
          "scatter": [
           {
            "fillpattern": {
             "fillmode": "overlay",
             "size": 10,
             "solidity": 0.2
            },
            "type": "scatter"
           }
          ],
          "scatter3d": [
           {
            "line": {
             "colorbar": {
              "outlinewidth": 0,
              "ticks": ""
             }
            },
            "marker": {
             "colorbar": {
              "outlinewidth": 0,
              "ticks": ""
             }
            },
            "type": "scatter3d"
           }
          ],
          "scattercarpet": [
           {
            "marker": {
             "colorbar": {
              "outlinewidth": 0,
              "ticks": ""
             }
            },
            "type": "scattercarpet"
           }
          ],
          "scattergeo": [
           {
            "marker": {
             "colorbar": {
              "outlinewidth": 0,
              "ticks": ""
             }
            },
            "type": "scattergeo"
           }
          ],
          "scattergl": [
           {
            "marker": {
             "colorbar": {
              "outlinewidth": 0,
              "ticks": ""
             }
            },
            "type": "scattergl"
           }
          ],
          "scattermapbox": [
           {
            "marker": {
             "colorbar": {
              "outlinewidth": 0,
              "ticks": ""
             }
            },
            "type": "scattermapbox"
           }
          ],
          "scatterpolar": [
           {
            "marker": {
             "colorbar": {
              "outlinewidth": 0,
              "ticks": ""
             }
            },
            "type": "scatterpolar"
           }
          ],
          "scatterpolargl": [
           {
            "marker": {
             "colorbar": {
              "outlinewidth": 0,
              "ticks": ""
             }
            },
            "type": "scatterpolargl"
           }
          ],
          "scatterternary": [
           {
            "marker": {
             "colorbar": {
              "outlinewidth": 0,
              "ticks": ""
             }
            },
            "type": "scatterternary"
           }
          ],
          "surface": [
           {
            "colorbar": {
             "outlinewidth": 0,
             "ticks": ""
            },
            "colorscale": [
             [
              0,
              "#0d0887"
             ],
             [
              0.1111111111111111,
              "#46039f"
             ],
             [
              0.2222222222222222,
              "#7201a8"
             ],
             [
              0.3333333333333333,
              "#9c179e"
             ],
             [
              0.4444444444444444,
              "#bd3786"
             ],
             [
              0.5555555555555556,
              "#d8576b"
             ],
             [
              0.6666666666666666,
              "#ed7953"
             ],
             [
              0.7777777777777778,
              "#fb9f3a"
             ],
             [
              0.8888888888888888,
              "#fdca26"
             ],
             [
              1,
              "#f0f921"
             ]
            ],
            "type": "surface"
           }
          ],
          "table": [
           {
            "cells": {
             "fill": {
              "color": "#EBF0F8"
             },
             "line": {
              "color": "white"
             }
            },
            "header": {
             "fill": {
              "color": "#C8D4E3"
             },
             "line": {
              "color": "white"
             }
            },
            "type": "table"
           }
          ]
         },
         "layout": {
          "annotationdefaults": {
           "arrowcolor": "#2a3f5f",
           "arrowhead": 0,
           "arrowwidth": 1
          },
          "autotypenumbers": "strict",
          "coloraxis": {
           "colorbar": {
            "outlinewidth": 0,
            "ticks": ""
           }
          },
          "colorscale": {
           "diverging": [
            [
             0,
             "#8e0152"
            ],
            [
             0.1,
             "#c51b7d"
            ],
            [
             0.2,
             "#de77ae"
            ],
            [
             0.3,
             "#f1b6da"
            ],
            [
             0.4,
             "#fde0ef"
            ],
            [
             0.5,
             "#f7f7f7"
            ],
            [
             0.6,
             "#e6f5d0"
            ],
            [
             0.7,
             "#b8e186"
            ],
            [
             0.8,
             "#7fbc41"
            ],
            [
             0.9,
             "#4d9221"
            ],
            [
             1,
             "#276419"
            ]
           ],
           "sequential": [
            [
             0,
             "#0d0887"
            ],
            [
             0.1111111111111111,
             "#46039f"
            ],
            [
             0.2222222222222222,
             "#7201a8"
            ],
            [
             0.3333333333333333,
             "#9c179e"
            ],
            [
             0.4444444444444444,
             "#bd3786"
            ],
            [
             0.5555555555555556,
             "#d8576b"
            ],
            [
             0.6666666666666666,
             "#ed7953"
            ],
            [
             0.7777777777777778,
             "#fb9f3a"
            ],
            [
             0.8888888888888888,
             "#fdca26"
            ],
            [
             1,
             "#f0f921"
            ]
           ],
           "sequentialminus": [
            [
             0,
             "#0d0887"
            ],
            [
             0.1111111111111111,
             "#46039f"
            ],
            [
             0.2222222222222222,
             "#7201a8"
            ],
            [
             0.3333333333333333,
             "#9c179e"
            ],
            [
             0.4444444444444444,
             "#bd3786"
            ],
            [
             0.5555555555555556,
             "#d8576b"
            ],
            [
             0.6666666666666666,
             "#ed7953"
            ],
            [
             0.7777777777777778,
             "#fb9f3a"
            ],
            [
             0.8888888888888888,
             "#fdca26"
            ],
            [
             1,
             "#f0f921"
            ]
           ]
          },
          "colorway": [
           "#636efa",
           "#EF553B",
           "#00cc96",
           "#ab63fa",
           "#FFA15A",
           "#19d3f3",
           "#FF6692",
           "#B6E880",
           "#FF97FF",
           "#FECB52"
          ],
          "font": {
           "color": "#2a3f5f"
          },
          "geo": {
           "bgcolor": "white",
           "lakecolor": "white",
           "landcolor": "#E5ECF6",
           "showlakes": true,
           "showland": true,
           "subunitcolor": "white"
          },
          "hoverlabel": {
           "align": "left"
          },
          "hovermode": "closest",
          "mapbox": {
           "style": "light"
          },
          "paper_bgcolor": "white",
          "plot_bgcolor": "#E5ECF6",
          "polar": {
           "angularaxis": {
            "gridcolor": "white",
            "linecolor": "white",
            "ticks": ""
           },
           "bgcolor": "#E5ECF6",
           "radialaxis": {
            "gridcolor": "white",
            "linecolor": "white",
            "ticks": ""
           }
          },
          "scene": {
           "xaxis": {
            "backgroundcolor": "#E5ECF6",
            "gridcolor": "white",
            "gridwidth": 2,
            "linecolor": "white",
            "showbackground": true,
            "ticks": "",
            "zerolinecolor": "white"
           },
           "yaxis": {
            "backgroundcolor": "#E5ECF6",
            "gridcolor": "white",
            "gridwidth": 2,
            "linecolor": "white",
            "showbackground": true,
            "ticks": "",
            "zerolinecolor": "white"
           },
           "zaxis": {
            "backgroundcolor": "#E5ECF6",
            "gridcolor": "white",
            "gridwidth": 2,
            "linecolor": "white",
            "showbackground": true,
            "ticks": "",
            "zerolinecolor": "white"
           }
          },
          "shapedefaults": {
           "line": {
            "color": "#2a3f5f"
           }
          },
          "ternary": {
           "aaxis": {
            "gridcolor": "white",
            "linecolor": "white",
            "ticks": ""
           },
           "baxis": {
            "gridcolor": "white",
            "linecolor": "white",
            "ticks": ""
           },
           "bgcolor": "#E5ECF6",
           "caxis": {
            "gridcolor": "white",
            "linecolor": "white",
            "ticks": ""
           }
          },
          "title": {
           "x": 0.05
          },
          "xaxis": {
           "automargin": true,
           "gridcolor": "white",
           "linecolor": "white",
           "ticks": "",
           "title": {
            "standoff": 15
           },
           "zerolinecolor": "white",
           "zerolinewidth": 2
          },
          "yaxis": {
           "automargin": true,
           "gridcolor": "white",
           "linecolor": "white",
           "ticks": "",
           "title": {
            "standoff": 15
           },
           "zerolinecolor": "white",
           "zerolinewidth": 2
          }
         }
        },
        "xaxis": {
         "range": [
          "2022-09-07",
          "2022-09-19T00:00:00"
         ],
         "tickformat": "%d-%m",
         "title": {
          "text": "date"
         }
        },
        "yaxis": {
         "title": {
          "text": "tweets"
         }
        }
       }
      },
      "text/html": [
       "<div>                            <div id=\"2fdd00ad-eab7-4f9b-a56f-8048e5bc4b22\" class=\"plotly-graph-div\" style=\"height:525px; width:100%;\"></div>            <script type=\"text/javascript\">                require([\"plotly\"], function(Plotly) {                    window.PLOTLYENV=window.PLOTLYENV || {};                                    if (document.getElementById(\"2fdd00ad-eab7-4f9b-a56f-8048e5bc4b22\")) {                    Plotly.newPlot(                        \"2fdd00ad-eab7-4f9b-a56f-8048e5bc4b22\",                        [{\"line\":{\"color\":\"rgba(230, 230, 250, 1)\"},\"mode\":\"lines+markers\",\"x\":[\"2022-09-08T00:00:00\",\"2022-09-09T00:00:00\",\"2022-09-10T00:00:00\",\"2022-09-11T00:00:00\",\"2022-09-12T00:00:00\",\"2022-09-13T00:00:00\",\"2022-09-14T00:00:00\",\"2022-09-15T00:00:00\",\"2022-09-16T00:00:00\",\"2022-09-17T00:00:00\",\"2022-09-18T00:00:00\",\"2022-09-19T00:00:00\"],\"y\":[129889,67025,25626,12442,7675,6775,8591,7294,7311,6206,6289,14839],\"type\":\"scatter\"}],                        {\"template\":{\"data\":{\"histogram2dcontour\":[{\"type\":\"histogram2dcontour\",\"colorbar\":{\"outlinewidth\":0,\"ticks\":\"\"},\"colorscale\":[[0.0,\"#0d0887\"],[0.1111111111111111,\"#46039f\"],[0.2222222222222222,\"#7201a8\"],[0.3333333333333333,\"#9c179e\"],[0.4444444444444444,\"#bd3786\"],[0.5555555555555556,\"#d8576b\"],[0.6666666666666666,\"#ed7953\"],[0.7777777777777778,\"#fb9f3a\"],[0.8888888888888888,\"#fdca26\"],[1.0,\"#f0f921\"]]}],\"choropleth\":[{\"type\":\"choropleth\",\"colorbar\":{\"outlinewidth\":0,\"ticks\":\"\"}}],\"histogram2d\":[{\"type\":\"histogram2d\",\"colorbar\":{\"outlinewidth\":0,\"ticks\":\"\"},\"colorscale\":[[0.0,\"#0d0887\"],[0.1111111111111111,\"#46039f\"],[0.2222222222222222,\"#7201a8\"],[0.3333333333333333,\"#9c179e\"],[0.4444444444444444,\"#bd3786\"],[0.5555555555555556,\"#d8576b\"],[0.6666666666666666,\"#ed7953\"],[0.7777777777777778,\"#fb9f3a\"],[0.8888888888888888,\"#fdca26\"],[1.0,\"#f0f921\"]]}],\"heatmap\":[{\"type\":\"heatmap\",\"colorbar\":{\"outlinewidth\":0,\"ticks\":\"\"},\"colorscale\":[[0.0,\"#0d0887\"],[0.1111111111111111,\"#46039f\"],[0.2222222222222222,\"#7201a8\"],[0.3333333333333333,\"#9c179e\"],[0.4444444444444444,\"#bd3786\"],[0.5555555555555556,\"#d8576b\"],[0.6666666666666666,\"#ed7953\"],[0.7777777777777778,\"#fb9f3a\"],[0.8888888888888888,\"#fdca26\"],[1.0,\"#f0f921\"]]}],\"heatmapgl\":[{\"type\":\"heatmapgl\",\"colorbar\":{\"outlinewidth\":0,\"ticks\":\"\"},\"colorscale\":[[0.0,\"#0d0887\"],[0.1111111111111111,\"#46039f\"],[0.2222222222222222,\"#7201a8\"],[0.3333333333333333,\"#9c179e\"],[0.4444444444444444,\"#bd3786\"],[0.5555555555555556,\"#d8576b\"],[0.6666666666666666,\"#ed7953\"],[0.7777777777777778,\"#fb9f3a\"],[0.8888888888888888,\"#fdca26\"],[1.0,\"#f0f921\"]]}],\"contourcarpet\":[{\"type\":\"contourcarpet\",\"colorbar\":{\"outlinewidth\":0,\"ticks\":\"\"}}],\"contour\":[{\"type\":\"contour\",\"colorbar\":{\"outlinewidth\":0,\"ticks\":\"\"},\"colorscale\":[[0.0,\"#0d0887\"],[0.1111111111111111,\"#46039f\"],[0.2222222222222222,\"#7201a8\"],[0.3333333333333333,\"#9c179e\"],[0.4444444444444444,\"#bd3786\"],[0.5555555555555556,\"#d8576b\"],[0.6666666666666666,\"#ed7953\"],[0.7777777777777778,\"#fb9f3a\"],[0.8888888888888888,\"#fdca26\"],[1.0,\"#f0f921\"]]}],\"surface\":[{\"type\":\"surface\",\"colorbar\":{\"outlinewidth\":0,\"ticks\":\"\"},\"colorscale\":[[0.0,\"#0d0887\"],[0.1111111111111111,\"#46039f\"],[0.2222222222222222,\"#7201a8\"],[0.3333333333333333,\"#9c179e\"],[0.4444444444444444,\"#bd3786\"],[0.5555555555555556,\"#d8576b\"],[0.6666666666666666,\"#ed7953\"],[0.7777777777777778,\"#fb9f3a\"],[0.8888888888888888,\"#fdca26\"],[1.0,\"#f0f921\"]]}],\"mesh3d\":[{\"type\":\"mesh3d\",\"colorbar\":{\"outlinewidth\":0,\"ticks\":\"\"}}],\"scatter\":[{\"fillpattern\":{\"fillmode\":\"overlay\",\"size\":10,\"solidity\":0.2},\"type\":\"scatter\"}],\"parcoords\":[{\"type\":\"parcoords\",\"line\":{\"colorbar\":{\"outlinewidth\":0,\"ticks\":\"\"}}}],\"scatterpolargl\":[{\"type\":\"scatterpolargl\",\"marker\":{\"colorbar\":{\"outlinewidth\":0,\"ticks\":\"\"}}}],\"bar\":[{\"error_x\":{\"color\":\"#2a3f5f\"},\"error_y\":{\"color\":\"#2a3f5f\"},\"marker\":{\"line\":{\"color\":\"#E5ECF6\",\"width\":0.5},\"pattern\":{\"fillmode\":\"overlay\",\"size\":10,\"solidity\":0.2}},\"type\":\"bar\"}],\"scattergeo\":[{\"type\":\"scattergeo\",\"marker\":{\"colorbar\":{\"outlinewidth\":0,\"ticks\":\"\"}}}],\"scatterpolar\":[{\"type\":\"scatterpolar\",\"marker\":{\"colorbar\":{\"outlinewidth\":0,\"ticks\":\"\"}}}],\"histogram\":[{\"marker\":{\"pattern\":{\"fillmode\":\"overlay\",\"size\":10,\"solidity\":0.2}},\"type\":\"histogram\"}],\"scattergl\":[{\"type\":\"scattergl\",\"marker\":{\"colorbar\":{\"outlinewidth\":0,\"ticks\":\"\"}}}],\"scatter3d\":[{\"type\":\"scatter3d\",\"line\":{\"colorbar\":{\"outlinewidth\":0,\"ticks\":\"\"}},\"marker\":{\"colorbar\":{\"outlinewidth\":0,\"ticks\":\"\"}}}],\"scattermapbox\":[{\"type\":\"scattermapbox\",\"marker\":{\"colorbar\":{\"outlinewidth\":0,\"ticks\":\"\"}}}],\"scatterternary\":[{\"type\":\"scatterternary\",\"marker\":{\"colorbar\":{\"outlinewidth\":0,\"ticks\":\"\"}}}],\"scattercarpet\":[{\"type\":\"scattercarpet\",\"marker\":{\"colorbar\":{\"outlinewidth\":0,\"ticks\":\"\"}}}],\"carpet\":[{\"aaxis\":{\"endlinecolor\":\"#2a3f5f\",\"gridcolor\":\"white\",\"linecolor\":\"white\",\"minorgridcolor\":\"white\",\"startlinecolor\":\"#2a3f5f\"},\"baxis\":{\"endlinecolor\":\"#2a3f5f\",\"gridcolor\":\"white\",\"linecolor\":\"white\",\"minorgridcolor\":\"white\",\"startlinecolor\":\"#2a3f5f\"},\"type\":\"carpet\"}],\"table\":[{\"cells\":{\"fill\":{\"color\":\"#EBF0F8\"},\"line\":{\"color\":\"white\"}},\"header\":{\"fill\":{\"color\":\"#C8D4E3\"},\"line\":{\"color\":\"white\"}},\"type\":\"table\"}],\"barpolar\":[{\"marker\":{\"line\":{\"color\":\"#E5ECF6\",\"width\":0.5},\"pattern\":{\"fillmode\":\"overlay\",\"size\":10,\"solidity\":0.2}},\"type\":\"barpolar\"}],\"pie\":[{\"automargin\":true,\"type\":\"pie\"}]},\"layout\":{\"autotypenumbers\":\"strict\",\"colorway\":[\"#636efa\",\"#EF553B\",\"#00cc96\",\"#ab63fa\",\"#FFA15A\",\"#19d3f3\",\"#FF6692\",\"#B6E880\",\"#FF97FF\",\"#FECB52\"],\"font\":{\"color\":\"#2a3f5f\"},\"hovermode\":\"closest\",\"hoverlabel\":{\"align\":\"left\"},\"paper_bgcolor\":\"white\",\"plot_bgcolor\":\"#E5ECF6\",\"polar\":{\"bgcolor\":\"#E5ECF6\",\"angularaxis\":{\"gridcolor\":\"white\",\"linecolor\":\"white\",\"ticks\":\"\"},\"radialaxis\":{\"gridcolor\":\"white\",\"linecolor\":\"white\",\"ticks\":\"\"}},\"ternary\":{\"bgcolor\":\"#E5ECF6\",\"aaxis\":{\"gridcolor\":\"white\",\"linecolor\":\"white\",\"ticks\":\"\"},\"baxis\":{\"gridcolor\":\"white\",\"linecolor\":\"white\",\"ticks\":\"\"},\"caxis\":{\"gridcolor\":\"white\",\"linecolor\":\"white\",\"ticks\":\"\"}},\"coloraxis\":{\"colorbar\":{\"outlinewidth\":0,\"ticks\":\"\"}},\"colorscale\":{\"sequential\":[[0.0,\"#0d0887\"],[0.1111111111111111,\"#46039f\"],[0.2222222222222222,\"#7201a8\"],[0.3333333333333333,\"#9c179e\"],[0.4444444444444444,\"#bd3786\"],[0.5555555555555556,\"#d8576b\"],[0.6666666666666666,\"#ed7953\"],[0.7777777777777778,\"#fb9f3a\"],[0.8888888888888888,\"#fdca26\"],[1.0,\"#f0f921\"]],\"sequentialminus\":[[0.0,\"#0d0887\"],[0.1111111111111111,\"#46039f\"],[0.2222222222222222,\"#7201a8\"],[0.3333333333333333,\"#9c179e\"],[0.4444444444444444,\"#bd3786\"],[0.5555555555555556,\"#d8576b\"],[0.6666666666666666,\"#ed7953\"],[0.7777777777777778,\"#fb9f3a\"],[0.8888888888888888,\"#fdca26\"],[1.0,\"#f0f921\"]],\"diverging\":[[0,\"#8e0152\"],[0.1,\"#c51b7d\"],[0.2,\"#de77ae\"],[0.3,\"#f1b6da\"],[0.4,\"#fde0ef\"],[0.5,\"#f7f7f7\"],[0.6,\"#e6f5d0\"],[0.7,\"#b8e186\"],[0.8,\"#7fbc41\"],[0.9,\"#4d9221\"],[1,\"#276419\"]]},\"xaxis\":{\"gridcolor\":\"white\",\"linecolor\":\"white\",\"ticks\":\"\",\"title\":{\"standoff\":15},\"zerolinecolor\":\"white\",\"automargin\":true,\"zerolinewidth\":2},\"yaxis\":{\"gridcolor\":\"white\",\"linecolor\":\"white\",\"ticks\":\"\",\"title\":{\"standoff\":15},\"zerolinecolor\":\"white\",\"automargin\":true,\"zerolinewidth\":2},\"scene\":{\"xaxis\":{\"backgroundcolor\":\"#E5ECF6\",\"gridcolor\":\"white\",\"linecolor\":\"white\",\"showbackground\":true,\"ticks\":\"\",\"zerolinecolor\":\"white\",\"gridwidth\":2},\"yaxis\":{\"backgroundcolor\":\"#E5ECF6\",\"gridcolor\":\"white\",\"linecolor\":\"white\",\"showbackground\":true,\"ticks\":\"\",\"zerolinecolor\":\"white\",\"gridwidth\":2},\"zaxis\":{\"backgroundcolor\":\"#E5ECF6\",\"gridcolor\":\"white\",\"linecolor\":\"white\",\"showbackground\":true,\"ticks\":\"\",\"zerolinecolor\":\"white\",\"gridwidth\":2}},\"shapedefaults\":{\"line\":{\"color\":\"#2a3f5f\"}},\"annotationdefaults\":{\"arrowcolor\":\"#2a3f5f\",\"arrowhead\":0,\"arrowwidth\":1},\"geo\":{\"bgcolor\":\"white\",\"landcolor\":\"#E5ECF6\",\"subunitcolor\":\"white\",\"showland\":true,\"showlakes\":true,\"lakecolor\":\"white\"},\"title\":{\"x\":0.05},\"mapbox\":{\"style\":\"light\"}}},\"annotations\":[{\"bgcolor\":\"rgba(230, 230, 250, 0.8)\",\"font\":{\"color\":\"white\",\"size\":18},\"showarrow\":false,\"text\":\"129889\",\"x\":\"2022-09-08T00:00:00\",\"y\":129889,\"yshift\":10},{\"bgcolor\":\"rgba(230, 230, 250, 0.8)\",\"font\":{\"color\":\"white\",\"size\":18},\"showarrow\":false,\"text\":\"67025\",\"x\":\"2022-09-09T00:00:00\",\"y\":67025,\"yshift\":10},{\"bgcolor\":\"rgba(230, 230, 250, 0.8)\",\"font\":{\"color\":\"white\",\"size\":18},\"showarrow\":false,\"text\":\"25626\",\"x\":\"2022-09-10T00:00:00\",\"y\":25626,\"yshift\":10},{\"bgcolor\":\"rgba(230, 230, 250, 0.8)\",\"font\":{\"color\":\"white\",\"size\":18},\"showarrow\":false,\"text\":\"12442\",\"x\":\"2022-09-11T00:00:00\",\"y\":12442,\"yshift\":10},{\"bgcolor\":\"rgba(230, 230, 250, 0.8)\",\"font\":{\"color\":\"white\",\"size\":18},\"showarrow\":false,\"text\":\"7675\",\"x\":\"2022-09-12T00:00:00\",\"y\":7675,\"yshift\":10},{\"bgcolor\":\"rgba(230, 230, 250, 0.8)\",\"font\":{\"color\":\"white\",\"size\":18},\"showarrow\":false,\"text\":\"6775\",\"x\":\"2022-09-13T00:00:00\",\"y\":6775,\"yshift\":10},{\"bgcolor\":\"rgba(230, 230, 250, 0.8)\",\"font\":{\"color\":\"white\",\"size\":18},\"showarrow\":false,\"text\":\"8591\",\"x\":\"2022-09-14T00:00:00\",\"y\":8591,\"yshift\":10},{\"bgcolor\":\"rgba(230, 230, 250, 0.8)\",\"font\":{\"color\":\"white\",\"size\":18},\"showarrow\":false,\"text\":\"7294\",\"x\":\"2022-09-15T00:00:00\",\"y\":7294,\"yshift\":10},{\"bgcolor\":\"rgba(230, 230, 250, 0.8)\",\"font\":{\"color\":\"white\",\"size\":18},\"showarrow\":false,\"text\":\"7311\",\"x\":\"2022-09-16T00:00:00\",\"y\":7311,\"yshift\":10},{\"bgcolor\":\"rgba(230, 230, 250, 0.8)\",\"font\":{\"color\":\"white\",\"size\":18},\"showarrow\":false,\"text\":\"6206\",\"x\":\"2022-09-17T00:00:00\",\"y\":6206,\"yshift\":10},{\"bgcolor\":\"rgba(230, 230, 250, 0.8)\",\"font\":{\"color\":\"white\",\"size\":18},\"showarrow\":false,\"text\":\"6289\",\"x\":\"2022-09-18T00:00:00\",\"y\":6289,\"yshift\":10},{\"bgcolor\":\"rgba(230, 230, 250, 0.8)\",\"font\":{\"color\":\"white\",\"size\":18},\"showarrow\":false,\"text\":\"14839\",\"x\":\"2022-09-19T00:00:00\",\"y\":14839,\"yshift\":10},{\"align\":\"center\",\"arrowcolor\":\"mediumorchid\",\"arrowhead\":2,\"arrowwidth\":1,\"ax\":0,\"ay\":-20,\"bgcolor\":\"rgba(255,255,255,0.5)\",\"font\":{\"color\":\"white\",\"family\":\"Helvetica\",\"size\":14},\"showarrow\":true,\"text\":\"D-day\",\"x\":\"2022-09-08\",\"xanchor\":\"center\",\"xshift\":0,\"y\":129889,\"yanchor\":\"bottom\",\"yshift\":20},{\"align\":\"center\",\"arrowcolor\":\"mediumorchid\",\"arrowhead\":2,\"arrowwidth\":1,\"ax\":0,\"ay\":-20,\"bgcolor\":\"rgba(255,255,255,0.5)\",\"font\":{\"color\":\"white\",\"family\":\"Helvetica\",\"size\":14},\"showarrow\":true,\"text\":\"Charles becomes King\",\"x\":\"2022-09-10\",\"xanchor\":\"center\",\"xshift\":0,\"y\":25626,\"yanchor\":\"bottom\",\"yshift\":20},{\"align\":\"center\",\"arrowcolor\":\"mediumorchid\",\"arrowhead\":2,\"arrowwidth\":1,\"ax\":0,\"ay\":-20,\"bgcolor\":\"rgba(255,255,255,0.5)\",\"font\":{\"color\":\"white\",\"family\":\"Helvetica\",\"size\":14},\"showarrow\":true,\"text\":\"Coffin goes to Edinburgh\",\"x\":\"2022-09-14\",\"xanchor\":\"center\",\"xshift\":0,\"y\":8591,\"yanchor\":\"bottom\",\"yshift\":20},{\"align\":\"center\",\"arrowcolor\":\"mediumorchid\",\"arrowhead\":2,\"arrowwidth\":1,\"ax\":0,\"ay\":-40,\"bgcolor\":\"rgba(255,255,255,0.5)\",\"font\":{\"color\":\"white\",\"family\":\"Helvetica\",\"size\":14},\"showarrow\":true,\"text\":\"King goes to Wales\",\"x\":\"2022-09-16\",\"xanchor\":\"center\",\"xshift\":0,\"y\":7311,\"yanchor\":\"bottom\",\"yshift\":20},{\"align\":\"center\",\"arrowcolor\":\"mediumorchid\",\"arrowhead\":2,\"arrowwidth\":1,\"ax\":0,\"ay\":-20,\"bgcolor\":\"rgba(255,255,255,0.5)\",\"font\":{\"color\":\"white\",\"family\":\"Helvetica\",\"size\":14},\"showarrow\":true,\"text\":\"Biden pays respects\",\"x\":\"2022-09-18\",\"xanchor\":\"center\",\"xshift\":0,\"y\":6289,\"yanchor\":\"bottom\",\"yshift\":20},{\"align\":\"center\",\"arrowcolor\":\"mediumorchid\",\"arrowhead\":2,\"arrowwidth\":1,\"ax\":0,\"ay\":-40,\"bgcolor\":\"rgba(255,255,255,0.5)\",\"font\":{\"color\":\"white\",\"family\":\"Helvetica\",\"size\":14},\"showarrow\":true,\"text\":\"Funeral\",\"x\":\"2022-09-19\",\"xanchor\":\"center\",\"xshift\":0,\"y\":14839,\"yanchor\":\"bottom\",\"yshift\":20}],\"xaxis\":{\"title\":{\"text\":\"date\"},\"tickformat\":\"%d-%m\",\"range\":[\"2022-09-07\",\"2022-09-19T00:00:00\"]},\"font\":{\"family\":\"Helvetica\",\"size\":18,\"color\":\"white\"},\"yaxis\":{\"title\":{\"text\":\"tweets\"}},\"paper_bgcolor\":\"rgba(0,0,0,0)\",\"plot_bgcolor\":\"rgba(0,0,0,0)\"},                        {\"responsive\": true}                    ).then(function(){\n",
       "                            \n",
       "var gd = document.getElementById('2fdd00ad-eab7-4f9b-a56f-8048e5bc4b22');\n",
       "var x = new MutationObserver(function (mutations, observer) {{\n",
       "        var display = window.getComputedStyle(gd).display;\n",
       "        if (!display || display === 'none') {{\n",
       "            console.log([gd, 'removed!']);\n",
       "            Plotly.purge(gd);\n",
       "            observer.disconnect();\n",
       "        }}\n",
       "}});\n",
       "\n",
       "// Listen for the removal of the full notebook cells\n",
       "var notebookContainer = gd.closest('#notebook-container');\n",
       "if (notebookContainer) {{\n",
       "    x.observe(notebookContainer, {childList: true});\n",
       "}}\n",
       "\n",
       "// Listen for the clearing of the current output cell\n",
       "var outputEl = gd.closest('.output');\n",
       "if (outputEl) {{\n",
       "    x.observe(outputEl, {childList: true});\n",
       "}}\n",
       "\n",
       "                        })                };                });            </script>        </div>"
      ]
     },
     "metadata": {},
     "output_type": "display_data"
    }
   ],
   "source": [
    "# Convert the publication date column to a datetime format\n",
    "tweets_df['publicationdate'] = pd.to_datetime(tweets_df['publicationdate'])\n",
    "\n",
    "# Filter the dataframe to start from 8 September 2022\n",
    "tweets_df = tweets_df[tweets_df['publicationdate'] >= '2022-09-08']\n",
    "\n",
    "# Group the tweets by publication date and count the number of tweets for each date\n",
    "tweet_count_df = tweets_df.groupby('publicationdate').count().reset_index()\n",
    "\n",
    "# Create a Plotly figure for overall tweet count\n",
    "tweetcount = go.Figure(\n",
    "    go.Scatter(\n",
    "        x=tweet_count_df['publicationdate'],\n",
    "        y=tweet_count_df['tweet'],\n",
    "        mode='lines+markers',\n",
    "        line=dict(color=linecolor),\n",
    "    )\n",
    ")\n",
    "\n",
    "# Customize the layout \n",
    "tweetcount.update_layout(\n",
    "    xaxis_title='date',\n",
    "    xaxis_tickformat='%d-%m',\n",
    "    yaxis_title='tweets',\n",
    "    font=dict(\n",
    "        family='Helvetica',\n",
    "        size=18,\n",
    "        color='white'\n",
    "    ),\n",
    "    paper_bgcolor=transparant,\n",
    "    plot_bgcolor=transparant,\n",
    "    xaxis=dict(\n",
    "        range=['2022-09-07', tweets_df['publicationdate'].max()]\n",
    "    ),\n",
    ")\n",
    "\n",
    "# Add labels with the count values\n",
    "for i, row in tweet_count_df.iterrows():\n",
    "    tweetcount.add_annotation(\n",
    "        x=row['publicationdate'],\n",
    "        y=row['tweet'],\n",
    "        text=row['tweet'],\n",
    "        showarrow=False,\n",
    "        font=dict(color='white', size=18),\n",
    "        yshift=10,\n",
    "        bgcolor=labelbgcolor,\n",
    "    )\n",
    "    \n",
    "# Add labels with annotations for significant dates\n",
    "tweetcount.add_annotation(\n",
    "    x='2022-09-08',\n",
    "    y=tweet_count_df[tweet_count_df['publicationdate'] == '2022-09-08']['tweet'].values[0],\n",
    "    text='D-day',\n",
    "    showarrow=True,\n",
    "    arrowhead=2,\n",
    "    arrowwidth=1,\n",
    "    arrowcolor='mediumorchid',\n",
    "    ax=0,\n",
    "    ay=-20,\n",
    "    font=dict(\n",
    "        family='Helvetica',\n",
    "        size=14, \n",
    "        color=notefontcolor\n",
    "    ),\n",
    "    align='center',\n",
    "    bgcolor=notelabelcolor,\n",
    "    xanchor='center',\n",
    "    yanchor='bottom',\n",
    "    xshift=0,\n",
    "    yshift=20,\n",
    ")\n",
    "tweetcount.add_annotation(\n",
    "    x='2022-09-10',\n",
    "    y=tweet_count_df[tweet_count_df['publicationdate'] == '2022-09-10']['tweet'].values[0],\n",
    "    text='Charles becomes King',\n",
    "    showarrow=True,\n",
    "    arrowhead=2,\n",
    "    arrowwidth=1,\n",
    "    arrowcolor='mediumorchid',\n",
    "    ax=0,\n",
    "    ay=-20,\n",
    "    font=dict(\n",
    "        family='Helvetica',\n",
    "        size=14, \n",
    "        color=notefontcolor\n",
    "    ),\n",
    "    align='center',\n",
    "    bgcolor=notelabelcolor,\n",
    "    xanchor='center',\n",
    "    yanchor='bottom',\n",
    "    xshift=0,\n",
    "    yshift=20,\n",
    ")\n",
    "tweetcount.add_annotation(\n",
    "    x='2022-09-14',\n",
    "    y=tweet_count_df[tweet_count_df['publicationdate'] == '2022-09-14']['tweet'].values[0],\n",
    "    text='Coffin goes to Edinburgh',\n",
    "    showarrow=True,\n",
    "    arrowhead=2,\n",
    "    arrowwidth=1,\n",
    "    arrowcolor='mediumorchid',\n",
    "    ax=0,\n",
    "    ay=-20,\n",
    "    font=dict(\n",
    "        family='Helvetica',\n",
    "        size=14, \n",
    "        color=notefontcolor\n",
    "    ),\n",
    "    align='center',\n",
    "    bgcolor=notelabelcolor,\n",
    "    xanchor='center',\n",
    "    yanchor='bottom',\n",
    "    xshift=0,\n",
    "    yshift=20,\n",
    ")\n",
    "tweetcount.add_annotation(\n",
    "    x='2022-09-16',\n",
    "    y=tweet_count_df[tweet_count_df['publicationdate'] == '2022-09-16']['tweet'].values[0],\n",
    "    text='King goes to Wales',\n",
    "    showarrow=True,\n",
    "    arrowhead=2,\n",
    "    arrowwidth=1,\n",
    "    arrowcolor='mediumorchid',\n",
    "    ax=0,\n",
    "    ay=-40,\n",
    "    font=dict(\n",
    "        family='Helvetica',\n",
    "        size=14, \n",
    "        color=notefontcolor\n",
    "    ),\n",
    "    align='center',\n",
    "    bgcolor=notelabelcolor,\n",
    "    xanchor='center',\n",
    "    yanchor='bottom',\n",
    "    xshift=0,\n",
    "    yshift=20,\n",
    ")\n",
    "tweetcount.add_annotation(\n",
    "    x='2022-09-18',\n",
    "    y=tweet_count_df[tweet_count_df['publicationdate'] == '2022-09-18']['tweet'].values[0],\n",
    "    text='Biden pays respects',\n",
    "    showarrow=True,\n",
    "    arrowhead=2,\n",
    "    arrowwidth=1,\n",
    "    arrowcolor='mediumorchid',\n",
    "    ax=0,\n",
    "    ay=-20,\n",
    "    font=dict(\n",
    "        family='Helvetica',\n",
    "        size=14, \n",
    "        color=notefontcolor\n",
    "    ),\n",
    "    align='center',\n",
    "    bgcolor=notelabelcolor,\n",
    "    xanchor='center',\n",
    "    yanchor='bottom',\n",
    "    xshift=0,\n",
    "    yshift=20,\n",
    ")\n",
    "tweetcount.add_annotation(\n",
    "    x='2022-09-19',\n",
    "    y=tweet_count_df[tweet_count_df['publicationdate'] == '2022-09-19']['tweet'].values[0],\n",
    "    text='Funeral',\n",
    "    showarrow=True,\n",
    "    arrowhead=2,\n",
    "    arrowwidth=1,\n",
    "    arrowcolor='mediumorchid',\n",
    "    ax=0,\n",
    "    ay=-40,\n",
    "    font=dict(\n",
    "        family='Helvetica',\n",
    "        size=14, \n",
    "        color=notefontcolor\n",
    "    ),\n",
    "    bgcolor=notelabelcolor,\n",
    "    align='center',\n",
    "    xanchor='center',\n",
    "    yanchor='bottom',\n",
    "    xshift=0,\n",
    "    yshift=20,\n",
    ")\n",
    "#Now let's have a look at our graph!\n",
    "tweetcount.show()\n"
   ]
  },
  {
   "cell_type": "code",
   "execution_count": 4,
   "id": "887d0bd9",
   "metadata": {},
   "outputs": [
    {
     "data": {
      "application/vnd.plotly.v1+json": {
       "config": {
        "plotlyServerURL": "https://plot.ly"
       },
       "data": [
        {
         "line": {
          "color": "rgba(216, 191, 216, 1)",
          "width": 2
         },
         "mode": "lines+markers",
         "name": "#queueforthequeen",
         "type": "scatter",
         "x": [
          "2022-09-13",
          "2022-09-14",
          "2022-09-15",
          "2022-09-16",
          "2022-09-17",
          "2022-09-18",
          "2022-09-19"
         ],
         "y": [
          3,
          621,
          2326,
          2007,
          1622,
          1143,
          295
         ]
        },
        {
         "line": {
          "color": "rgba(221, 160, 221, 1)",
          "width": 2
         },
         "mode": "lines+markers",
         "name": "#abolishthemonarchy",
         "type": "scatter",
         "x": [
          "2022-09-01",
          "2022-09-02",
          "2022-09-03",
          "2022-09-04",
          "2022-09-05",
          "2022-09-06",
          "2022-09-07",
          "2022-09-08",
          "2022-09-09",
          "2022-09-10",
          "2022-09-11",
          "2022-09-12",
          "2022-09-13",
          "2022-09-14",
          "2022-09-15",
          "2022-09-16",
          "2022-09-17",
          "2022-09-18",
          "2022-09-19"
         ],
         "y": [
          268,
          81,
          93,
          194,
          158,
          328,
          125,
          1820,
          7718,
          5875,
          2147,
          1490,
          1318,
          1366,
          1246,
          891,
          1111,
          1219,
          2181
         ]
        },
        {
         "line": {
          "color": "rgba(255, 221, 244, 1)",
          "width": 2
         },
         "mode": "lines+markers",
         "name": "#queenelizabeth",
         "type": "scatter",
         "x": [
          "2022-09-01",
          "2022-09-02",
          "2022-09-03",
          "2022-09-04",
          "2022-09-05",
          "2022-09-06",
          "2022-09-07",
          "2022-09-08",
          "2022-09-09",
          "2022-09-10",
          "2022-09-11",
          "2022-09-12",
          "2022-09-13",
          "2022-09-14",
          "2022-09-15",
          "2022-09-16",
          "2022-09-17",
          "2022-09-18",
          "2022-09-19"
         ],
         "y": [
          57,
          45,
          50,
          42,
          51,
          164,
          109,
          128190,
          61032,
          21177,
          10449,
          6237,
          5485,
          6744,
          4209,
          4701,
          3753,
          4182,
          12524
         ]
        }
       ],
       "layout": {
        "font": {
         "color": "white",
         "family": "Helvetica",
         "size": 22
        },
        "legend": {
         "orientation": "h",
         "x": 0.5,
         "xanchor": "center",
         "y": 1.2
        },
        "margin": {
         "t": 100
        },
        "paper_bgcolor": "rgba(0,0,0,0)",
        "plot_bgcolor": "rgba(0,0,0,0)",
        "template": {
         "data": {
          "bar": [
           {
            "error_x": {
             "color": "#2a3f5f"
            },
            "error_y": {
             "color": "#2a3f5f"
            },
            "marker": {
             "line": {
              "color": "#E5ECF6",
              "width": 0.5
             },
             "pattern": {
              "fillmode": "overlay",
              "size": 10,
              "solidity": 0.2
             }
            },
            "type": "bar"
           }
          ],
          "barpolar": [
           {
            "marker": {
             "line": {
              "color": "#E5ECF6",
              "width": 0.5
             },
             "pattern": {
              "fillmode": "overlay",
              "size": 10,
              "solidity": 0.2
             }
            },
            "type": "barpolar"
           }
          ],
          "carpet": [
           {
            "aaxis": {
             "endlinecolor": "#2a3f5f",
             "gridcolor": "white",
             "linecolor": "white",
             "minorgridcolor": "white",
             "startlinecolor": "#2a3f5f"
            },
            "baxis": {
             "endlinecolor": "#2a3f5f",
             "gridcolor": "white",
             "linecolor": "white",
             "minorgridcolor": "white",
             "startlinecolor": "#2a3f5f"
            },
            "type": "carpet"
           }
          ],
          "choropleth": [
           {
            "colorbar": {
             "outlinewidth": 0,
             "ticks": ""
            },
            "type": "choropleth"
           }
          ],
          "contour": [
           {
            "colorbar": {
             "outlinewidth": 0,
             "ticks": ""
            },
            "colorscale": [
             [
              0,
              "#0d0887"
             ],
             [
              0.1111111111111111,
              "#46039f"
             ],
             [
              0.2222222222222222,
              "#7201a8"
             ],
             [
              0.3333333333333333,
              "#9c179e"
             ],
             [
              0.4444444444444444,
              "#bd3786"
             ],
             [
              0.5555555555555556,
              "#d8576b"
             ],
             [
              0.6666666666666666,
              "#ed7953"
             ],
             [
              0.7777777777777778,
              "#fb9f3a"
             ],
             [
              0.8888888888888888,
              "#fdca26"
             ],
             [
              1,
              "#f0f921"
             ]
            ],
            "type": "contour"
           }
          ],
          "contourcarpet": [
           {
            "colorbar": {
             "outlinewidth": 0,
             "ticks": ""
            },
            "type": "contourcarpet"
           }
          ],
          "heatmap": [
           {
            "colorbar": {
             "outlinewidth": 0,
             "ticks": ""
            },
            "colorscale": [
             [
              0,
              "#0d0887"
             ],
             [
              0.1111111111111111,
              "#46039f"
             ],
             [
              0.2222222222222222,
              "#7201a8"
             ],
             [
              0.3333333333333333,
              "#9c179e"
             ],
             [
              0.4444444444444444,
              "#bd3786"
             ],
             [
              0.5555555555555556,
              "#d8576b"
             ],
             [
              0.6666666666666666,
              "#ed7953"
             ],
             [
              0.7777777777777778,
              "#fb9f3a"
             ],
             [
              0.8888888888888888,
              "#fdca26"
             ],
             [
              1,
              "#f0f921"
             ]
            ],
            "type": "heatmap"
           }
          ],
          "heatmapgl": [
           {
            "colorbar": {
             "outlinewidth": 0,
             "ticks": ""
            },
            "colorscale": [
             [
              0,
              "#0d0887"
             ],
             [
              0.1111111111111111,
              "#46039f"
             ],
             [
              0.2222222222222222,
              "#7201a8"
             ],
             [
              0.3333333333333333,
              "#9c179e"
             ],
             [
              0.4444444444444444,
              "#bd3786"
             ],
             [
              0.5555555555555556,
              "#d8576b"
             ],
             [
              0.6666666666666666,
              "#ed7953"
             ],
             [
              0.7777777777777778,
              "#fb9f3a"
             ],
             [
              0.8888888888888888,
              "#fdca26"
             ],
             [
              1,
              "#f0f921"
             ]
            ],
            "type": "heatmapgl"
           }
          ],
          "histogram": [
           {
            "marker": {
             "pattern": {
              "fillmode": "overlay",
              "size": 10,
              "solidity": 0.2
             }
            },
            "type": "histogram"
           }
          ],
          "histogram2d": [
           {
            "colorbar": {
             "outlinewidth": 0,
             "ticks": ""
            },
            "colorscale": [
             [
              0,
              "#0d0887"
             ],
             [
              0.1111111111111111,
              "#46039f"
             ],
             [
              0.2222222222222222,
              "#7201a8"
             ],
             [
              0.3333333333333333,
              "#9c179e"
             ],
             [
              0.4444444444444444,
              "#bd3786"
             ],
             [
              0.5555555555555556,
              "#d8576b"
             ],
             [
              0.6666666666666666,
              "#ed7953"
             ],
             [
              0.7777777777777778,
              "#fb9f3a"
             ],
             [
              0.8888888888888888,
              "#fdca26"
             ],
             [
              1,
              "#f0f921"
             ]
            ],
            "type": "histogram2d"
           }
          ],
          "histogram2dcontour": [
           {
            "colorbar": {
             "outlinewidth": 0,
             "ticks": ""
            },
            "colorscale": [
             [
              0,
              "#0d0887"
             ],
             [
              0.1111111111111111,
              "#46039f"
             ],
             [
              0.2222222222222222,
              "#7201a8"
             ],
             [
              0.3333333333333333,
              "#9c179e"
             ],
             [
              0.4444444444444444,
              "#bd3786"
             ],
             [
              0.5555555555555556,
              "#d8576b"
             ],
             [
              0.6666666666666666,
              "#ed7953"
             ],
             [
              0.7777777777777778,
              "#fb9f3a"
             ],
             [
              0.8888888888888888,
              "#fdca26"
             ],
             [
              1,
              "#f0f921"
             ]
            ],
            "type": "histogram2dcontour"
           }
          ],
          "mesh3d": [
           {
            "colorbar": {
             "outlinewidth": 0,
             "ticks": ""
            },
            "type": "mesh3d"
           }
          ],
          "parcoords": [
           {
            "line": {
             "colorbar": {
              "outlinewidth": 0,
              "ticks": ""
             }
            },
            "type": "parcoords"
           }
          ],
          "pie": [
           {
            "automargin": true,
            "type": "pie"
           }
          ],
          "scatter": [
           {
            "fillpattern": {
             "fillmode": "overlay",
             "size": 10,
             "solidity": 0.2
            },
            "type": "scatter"
           }
          ],
          "scatter3d": [
           {
            "line": {
             "colorbar": {
              "outlinewidth": 0,
              "ticks": ""
             }
            },
            "marker": {
             "colorbar": {
              "outlinewidth": 0,
              "ticks": ""
             }
            },
            "type": "scatter3d"
           }
          ],
          "scattercarpet": [
           {
            "marker": {
             "colorbar": {
              "outlinewidth": 0,
              "ticks": ""
             }
            },
            "type": "scattercarpet"
           }
          ],
          "scattergeo": [
           {
            "marker": {
             "colorbar": {
              "outlinewidth": 0,
              "ticks": ""
             }
            },
            "type": "scattergeo"
           }
          ],
          "scattergl": [
           {
            "marker": {
             "colorbar": {
              "outlinewidth": 0,
              "ticks": ""
             }
            },
            "type": "scattergl"
           }
          ],
          "scattermapbox": [
           {
            "marker": {
             "colorbar": {
              "outlinewidth": 0,
              "ticks": ""
             }
            },
            "type": "scattermapbox"
           }
          ],
          "scatterpolar": [
           {
            "marker": {
             "colorbar": {
              "outlinewidth": 0,
              "ticks": ""
             }
            },
            "type": "scatterpolar"
           }
          ],
          "scatterpolargl": [
           {
            "marker": {
             "colorbar": {
              "outlinewidth": 0,
              "ticks": ""
             }
            },
            "type": "scatterpolargl"
           }
          ],
          "scatterternary": [
           {
            "marker": {
             "colorbar": {
              "outlinewidth": 0,
              "ticks": ""
             }
            },
            "type": "scatterternary"
           }
          ],
          "surface": [
           {
            "colorbar": {
             "outlinewidth": 0,
             "ticks": ""
            },
            "colorscale": [
             [
              0,
              "#0d0887"
             ],
             [
              0.1111111111111111,
              "#46039f"
             ],
             [
              0.2222222222222222,
              "#7201a8"
             ],
             [
              0.3333333333333333,
              "#9c179e"
             ],
             [
              0.4444444444444444,
              "#bd3786"
             ],
             [
              0.5555555555555556,
              "#d8576b"
             ],
             [
              0.6666666666666666,
              "#ed7953"
             ],
             [
              0.7777777777777778,
              "#fb9f3a"
             ],
             [
              0.8888888888888888,
              "#fdca26"
             ],
             [
              1,
              "#f0f921"
             ]
            ],
            "type": "surface"
           }
          ],
          "table": [
           {
            "cells": {
             "fill": {
              "color": "#EBF0F8"
             },
             "line": {
              "color": "white"
             }
            },
            "header": {
             "fill": {
              "color": "#C8D4E3"
             },
             "line": {
              "color": "white"
             }
            },
            "type": "table"
           }
          ]
         },
         "layout": {
          "annotationdefaults": {
           "arrowcolor": "#2a3f5f",
           "arrowhead": 0,
           "arrowwidth": 1
          },
          "autotypenumbers": "strict",
          "coloraxis": {
           "colorbar": {
            "outlinewidth": 0,
            "ticks": ""
           }
          },
          "colorscale": {
           "diverging": [
            [
             0,
             "#8e0152"
            ],
            [
             0.1,
             "#c51b7d"
            ],
            [
             0.2,
             "#de77ae"
            ],
            [
             0.3,
             "#f1b6da"
            ],
            [
             0.4,
             "#fde0ef"
            ],
            [
             0.5,
             "#f7f7f7"
            ],
            [
             0.6,
             "#e6f5d0"
            ],
            [
             0.7,
             "#b8e186"
            ],
            [
             0.8,
             "#7fbc41"
            ],
            [
             0.9,
             "#4d9221"
            ],
            [
             1,
             "#276419"
            ]
           ],
           "sequential": [
            [
             0,
             "#0d0887"
            ],
            [
             0.1111111111111111,
             "#46039f"
            ],
            [
             0.2222222222222222,
             "#7201a8"
            ],
            [
             0.3333333333333333,
             "#9c179e"
            ],
            [
             0.4444444444444444,
             "#bd3786"
            ],
            [
             0.5555555555555556,
             "#d8576b"
            ],
            [
             0.6666666666666666,
             "#ed7953"
            ],
            [
             0.7777777777777778,
             "#fb9f3a"
            ],
            [
             0.8888888888888888,
             "#fdca26"
            ],
            [
             1,
             "#f0f921"
            ]
           ],
           "sequentialminus": [
            [
             0,
             "#0d0887"
            ],
            [
             0.1111111111111111,
             "#46039f"
            ],
            [
             0.2222222222222222,
             "#7201a8"
            ],
            [
             0.3333333333333333,
             "#9c179e"
            ],
            [
             0.4444444444444444,
             "#bd3786"
            ],
            [
             0.5555555555555556,
             "#d8576b"
            ],
            [
             0.6666666666666666,
             "#ed7953"
            ],
            [
             0.7777777777777778,
             "#fb9f3a"
            ],
            [
             0.8888888888888888,
             "#fdca26"
            ],
            [
             1,
             "#f0f921"
            ]
           ]
          },
          "colorway": [
           "#636efa",
           "#EF553B",
           "#00cc96",
           "#ab63fa",
           "#FFA15A",
           "#19d3f3",
           "#FF6692",
           "#B6E880",
           "#FF97FF",
           "#FECB52"
          ],
          "font": {
           "color": "#2a3f5f"
          },
          "geo": {
           "bgcolor": "white",
           "lakecolor": "white",
           "landcolor": "#E5ECF6",
           "showlakes": true,
           "showland": true,
           "subunitcolor": "white"
          },
          "hoverlabel": {
           "align": "left"
          },
          "hovermode": "closest",
          "mapbox": {
           "style": "light"
          },
          "paper_bgcolor": "white",
          "plot_bgcolor": "#E5ECF6",
          "polar": {
           "angularaxis": {
            "gridcolor": "white",
            "linecolor": "white",
            "ticks": ""
           },
           "bgcolor": "#E5ECF6",
           "radialaxis": {
            "gridcolor": "white",
            "linecolor": "white",
            "ticks": ""
           }
          },
          "scene": {
           "xaxis": {
            "backgroundcolor": "#E5ECF6",
            "gridcolor": "white",
            "gridwidth": 2,
            "linecolor": "white",
            "showbackground": true,
            "ticks": "",
            "zerolinecolor": "white"
           },
           "yaxis": {
            "backgroundcolor": "#E5ECF6",
            "gridcolor": "white",
            "gridwidth": 2,
            "linecolor": "white",
            "showbackground": true,
            "ticks": "",
            "zerolinecolor": "white"
           },
           "zaxis": {
            "backgroundcolor": "#E5ECF6",
            "gridcolor": "white",
            "gridwidth": 2,
            "linecolor": "white",
            "showbackground": true,
            "ticks": "",
            "zerolinecolor": "white"
           }
          },
          "shapedefaults": {
           "line": {
            "color": "#2a3f5f"
           }
          },
          "ternary": {
           "aaxis": {
            "gridcolor": "white",
            "linecolor": "white",
            "ticks": ""
           },
           "baxis": {
            "gridcolor": "white",
            "linecolor": "white",
            "ticks": ""
           },
           "bgcolor": "#E5ECF6",
           "caxis": {
            "gridcolor": "white",
            "linecolor": "white",
            "ticks": ""
           }
          },
          "title": {
           "x": 0.05
          },
          "xaxis": {
           "automargin": true,
           "gridcolor": "white",
           "linecolor": "white",
           "ticks": "",
           "title": {
            "standoff": 15
           },
           "zerolinecolor": "white",
           "zerolinewidth": 2
          },
          "yaxis": {
           "automargin": true,
           "gridcolor": "white",
           "linecolor": "white",
           "ticks": "",
           "title": {
            "standoff": 15
           },
           "zerolinecolor": "white",
           "zerolinewidth": 2
          }
         }
        },
        "xaxis": {
         "range": [
          "2022-09-08",
          "2022-09-19"
         ],
         "tickformat": "%d-%m",
         "title": {
          "text": "date"
         }
        },
        "yaxis": {
         "title": {
          "text": "tweets"
         }
        }
       }
      },
      "text/html": [
       "<div>                            <div id=\"bfd90a1e-fe97-4001-b8f3-7d5640ad0f93\" class=\"plotly-graph-div\" style=\"height:525px; width:100%;\"></div>            <script type=\"text/javascript\">                require([\"plotly\"], function(Plotly) {                    window.PLOTLYENV=window.PLOTLYENV || {};                                    if (document.getElementById(\"bfd90a1e-fe97-4001-b8f3-7d5640ad0f93\")) {                    Plotly.newPlot(                        \"bfd90a1e-fe97-4001-b8f3-7d5640ad0f93\",                        [{\"line\":{\"color\":\"rgba(216, 191, 216, 1)\",\"width\":2},\"mode\":\"lines+markers\",\"name\":\"#queueforthequeen\",\"x\":[\"2022-09-13\",\"2022-09-14\",\"2022-09-15\",\"2022-09-16\",\"2022-09-17\",\"2022-09-18\",\"2022-09-19\"],\"y\":[3,621,2326,2007,1622,1143,295],\"type\":\"scatter\"},{\"line\":{\"color\":\"rgba(221, 160, 221, 1)\",\"width\":2},\"mode\":\"lines+markers\",\"name\":\"#abolishthemonarchy\",\"x\":[\"2022-09-01\",\"2022-09-02\",\"2022-09-03\",\"2022-09-04\",\"2022-09-05\",\"2022-09-06\",\"2022-09-07\",\"2022-09-08\",\"2022-09-09\",\"2022-09-10\",\"2022-09-11\",\"2022-09-12\",\"2022-09-13\",\"2022-09-14\",\"2022-09-15\",\"2022-09-16\",\"2022-09-17\",\"2022-09-18\",\"2022-09-19\"],\"y\":[268,81,93,194,158,328,125,1820,7718,5875,2147,1490,1318,1366,1246,891,1111,1219,2181],\"type\":\"scatter\"},{\"line\":{\"color\":\"rgba(255, 221, 244, 1)\",\"width\":2},\"mode\":\"lines+markers\",\"name\":\"#queenelizabeth\",\"x\":[\"2022-09-01\",\"2022-09-02\",\"2022-09-03\",\"2022-09-04\",\"2022-09-05\",\"2022-09-06\",\"2022-09-07\",\"2022-09-08\",\"2022-09-09\",\"2022-09-10\",\"2022-09-11\",\"2022-09-12\",\"2022-09-13\",\"2022-09-14\",\"2022-09-15\",\"2022-09-16\",\"2022-09-17\",\"2022-09-18\",\"2022-09-19\"],\"y\":[57,45,50,42,51,164,109,128190,61032,21177,10449,6237,5485,6744,4209,4701,3753,4182,12524],\"type\":\"scatter\"}],                        {\"template\":{\"data\":{\"histogram2dcontour\":[{\"type\":\"histogram2dcontour\",\"colorbar\":{\"outlinewidth\":0,\"ticks\":\"\"},\"colorscale\":[[0.0,\"#0d0887\"],[0.1111111111111111,\"#46039f\"],[0.2222222222222222,\"#7201a8\"],[0.3333333333333333,\"#9c179e\"],[0.4444444444444444,\"#bd3786\"],[0.5555555555555556,\"#d8576b\"],[0.6666666666666666,\"#ed7953\"],[0.7777777777777778,\"#fb9f3a\"],[0.8888888888888888,\"#fdca26\"],[1.0,\"#f0f921\"]]}],\"choropleth\":[{\"type\":\"choropleth\",\"colorbar\":{\"outlinewidth\":0,\"ticks\":\"\"}}],\"histogram2d\":[{\"type\":\"histogram2d\",\"colorbar\":{\"outlinewidth\":0,\"ticks\":\"\"},\"colorscale\":[[0.0,\"#0d0887\"],[0.1111111111111111,\"#46039f\"],[0.2222222222222222,\"#7201a8\"],[0.3333333333333333,\"#9c179e\"],[0.4444444444444444,\"#bd3786\"],[0.5555555555555556,\"#d8576b\"],[0.6666666666666666,\"#ed7953\"],[0.7777777777777778,\"#fb9f3a\"],[0.8888888888888888,\"#fdca26\"],[1.0,\"#f0f921\"]]}],\"heatmap\":[{\"type\":\"heatmap\",\"colorbar\":{\"outlinewidth\":0,\"ticks\":\"\"},\"colorscale\":[[0.0,\"#0d0887\"],[0.1111111111111111,\"#46039f\"],[0.2222222222222222,\"#7201a8\"],[0.3333333333333333,\"#9c179e\"],[0.4444444444444444,\"#bd3786\"],[0.5555555555555556,\"#d8576b\"],[0.6666666666666666,\"#ed7953\"],[0.7777777777777778,\"#fb9f3a\"],[0.8888888888888888,\"#fdca26\"],[1.0,\"#f0f921\"]]}],\"heatmapgl\":[{\"type\":\"heatmapgl\",\"colorbar\":{\"outlinewidth\":0,\"ticks\":\"\"},\"colorscale\":[[0.0,\"#0d0887\"],[0.1111111111111111,\"#46039f\"],[0.2222222222222222,\"#7201a8\"],[0.3333333333333333,\"#9c179e\"],[0.4444444444444444,\"#bd3786\"],[0.5555555555555556,\"#d8576b\"],[0.6666666666666666,\"#ed7953\"],[0.7777777777777778,\"#fb9f3a\"],[0.8888888888888888,\"#fdca26\"],[1.0,\"#f0f921\"]]}],\"contourcarpet\":[{\"type\":\"contourcarpet\",\"colorbar\":{\"outlinewidth\":0,\"ticks\":\"\"}}],\"contour\":[{\"type\":\"contour\",\"colorbar\":{\"outlinewidth\":0,\"ticks\":\"\"},\"colorscale\":[[0.0,\"#0d0887\"],[0.1111111111111111,\"#46039f\"],[0.2222222222222222,\"#7201a8\"],[0.3333333333333333,\"#9c179e\"],[0.4444444444444444,\"#bd3786\"],[0.5555555555555556,\"#d8576b\"],[0.6666666666666666,\"#ed7953\"],[0.7777777777777778,\"#fb9f3a\"],[0.8888888888888888,\"#fdca26\"],[1.0,\"#f0f921\"]]}],\"surface\":[{\"type\":\"surface\",\"colorbar\":{\"outlinewidth\":0,\"ticks\":\"\"},\"colorscale\":[[0.0,\"#0d0887\"],[0.1111111111111111,\"#46039f\"],[0.2222222222222222,\"#7201a8\"],[0.3333333333333333,\"#9c179e\"],[0.4444444444444444,\"#bd3786\"],[0.5555555555555556,\"#d8576b\"],[0.6666666666666666,\"#ed7953\"],[0.7777777777777778,\"#fb9f3a\"],[0.8888888888888888,\"#fdca26\"],[1.0,\"#f0f921\"]]}],\"mesh3d\":[{\"type\":\"mesh3d\",\"colorbar\":{\"outlinewidth\":0,\"ticks\":\"\"}}],\"scatter\":[{\"fillpattern\":{\"fillmode\":\"overlay\",\"size\":10,\"solidity\":0.2},\"type\":\"scatter\"}],\"parcoords\":[{\"type\":\"parcoords\",\"line\":{\"colorbar\":{\"outlinewidth\":0,\"ticks\":\"\"}}}],\"scatterpolargl\":[{\"type\":\"scatterpolargl\",\"marker\":{\"colorbar\":{\"outlinewidth\":0,\"ticks\":\"\"}}}],\"bar\":[{\"error_x\":{\"color\":\"#2a3f5f\"},\"error_y\":{\"color\":\"#2a3f5f\"},\"marker\":{\"line\":{\"color\":\"#E5ECF6\",\"width\":0.5},\"pattern\":{\"fillmode\":\"overlay\",\"size\":10,\"solidity\":0.2}},\"type\":\"bar\"}],\"scattergeo\":[{\"type\":\"scattergeo\",\"marker\":{\"colorbar\":{\"outlinewidth\":0,\"ticks\":\"\"}}}],\"scatterpolar\":[{\"type\":\"scatterpolar\",\"marker\":{\"colorbar\":{\"outlinewidth\":0,\"ticks\":\"\"}}}],\"histogram\":[{\"marker\":{\"pattern\":{\"fillmode\":\"overlay\",\"size\":10,\"solidity\":0.2}},\"type\":\"histogram\"}],\"scattergl\":[{\"type\":\"scattergl\",\"marker\":{\"colorbar\":{\"outlinewidth\":0,\"ticks\":\"\"}}}],\"scatter3d\":[{\"type\":\"scatter3d\",\"line\":{\"colorbar\":{\"outlinewidth\":0,\"ticks\":\"\"}},\"marker\":{\"colorbar\":{\"outlinewidth\":0,\"ticks\":\"\"}}}],\"scattermapbox\":[{\"type\":\"scattermapbox\",\"marker\":{\"colorbar\":{\"outlinewidth\":0,\"ticks\":\"\"}}}],\"scatterternary\":[{\"type\":\"scatterternary\",\"marker\":{\"colorbar\":{\"outlinewidth\":0,\"ticks\":\"\"}}}],\"scattercarpet\":[{\"type\":\"scattercarpet\",\"marker\":{\"colorbar\":{\"outlinewidth\":0,\"ticks\":\"\"}}}],\"carpet\":[{\"aaxis\":{\"endlinecolor\":\"#2a3f5f\",\"gridcolor\":\"white\",\"linecolor\":\"white\",\"minorgridcolor\":\"white\",\"startlinecolor\":\"#2a3f5f\"},\"baxis\":{\"endlinecolor\":\"#2a3f5f\",\"gridcolor\":\"white\",\"linecolor\":\"white\",\"minorgridcolor\":\"white\",\"startlinecolor\":\"#2a3f5f\"},\"type\":\"carpet\"}],\"table\":[{\"cells\":{\"fill\":{\"color\":\"#EBF0F8\"},\"line\":{\"color\":\"white\"}},\"header\":{\"fill\":{\"color\":\"#C8D4E3\"},\"line\":{\"color\":\"white\"}},\"type\":\"table\"}],\"barpolar\":[{\"marker\":{\"line\":{\"color\":\"#E5ECF6\",\"width\":0.5},\"pattern\":{\"fillmode\":\"overlay\",\"size\":10,\"solidity\":0.2}},\"type\":\"barpolar\"}],\"pie\":[{\"automargin\":true,\"type\":\"pie\"}]},\"layout\":{\"autotypenumbers\":\"strict\",\"colorway\":[\"#636efa\",\"#EF553B\",\"#00cc96\",\"#ab63fa\",\"#FFA15A\",\"#19d3f3\",\"#FF6692\",\"#B6E880\",\"#FF97FF\",\"#FECB52\"],\"font\":{\"color\":\"#2a3f5f\"},\"hovermode\":\"closest\",\"hoverlabel\":{\"align\":\"left\"},\"paper_bgcolor\":\"white\",\"plot_bgcolor\":\"#E5ECF6\",\"polar\":{\"bgcolor\":\"#E5ECF6\",\"angularaxis\":{\"gridcolor\":\"white\",\"linecolor\":\"white\",\"ticks\":\"\"},\"radialaxis\":{\"gridcolor\":\"white\",\"linecolor\":\"white\",\"ticks\":\"\"}},\"ternary\":{\"bgcolor\":\"#E5ECF6\",\"aaxis\":{\"gridcolor\":\"white\",\"linecolor\":\"white\",\"ticks\":\"\"},\"baxis\":{\"gridcolor\":\"white\",\"linecolor\":\"white\",\"ticks\":\"\"},\"caxis\":{\"gridcolor\":\"white\",\"linecolor\":\"white\",\"ticks\":\"\"}},\"coloraxis\":{\"colorbar\":{\"outlinewidth\":0,\"ticks\":\"\"}},\"colorscale\":{\"sequential\":[[0.0,\"#0d0887\"],[0.1111111111111111,\"#46039f\"],[0.2222222222222222,\"#7201a8\"],[0.3333333333333333,\"#9c179e\"],[0.4444444444444444,\"#bd3786\"],[0.5555555555555556,\"#d8576b\"],[0.6666666666666666,\"#ed7953\"],[0.7777777777777778,\"#fb9f3a\"],[0.8888888888888888,\"#fdca26\"],[1.0,\"#f0f921\"]],\"sequentialminus\":[[0.0,\"#0d0887\"],[0.1111111111111111,\"#46039f\"],[0.2222222222222222,\"#7201a8\"],[0.3333333333333333,\"#9c179e\"],[0.4444444444444444,\"#bd3786\"],[0.5555555555555556,\"#d8576b\"],[0.6666666666666666,\"#ed7953\"],[0.7777777777777778,\"#fb9f3a\"],[0.8888888888888888,\"#fdca26\"],[1.0,\"#f0f921\"]],\"diverging\":[[0,\"#8e0152\"],[0.1,\"#c51b7d\"],[0.2,\"#de77ae\"],[0.3,\"#f1b6da\"],[0.4,\"#fde0ef\"],[0.5,\"#f7f7f7\"],[0.6,\"#e6f5d0\"],[0.7,\"#b8e186\"],[0.8,\"#7fbc41\"],[0.9,\"#4d9221\"],[1,\"#276419\"]]},\"xaxis\":{\"gridcolor\":\"white\",\"linecolor\":\"white\",\"ticks\":\"\",\"title\":{\"standoff\":15},\"zerolinecolor\":\"white\",\"automargin\":true,\"zerolinewidth\":2},\"yaxis\":{\"gridcolor\":\"white\",\"linecolor\":\"white\",\"ticks\":\"\",\"title\":{\"standoff\":15},\"zerolinecolor\":\"white\",\"automargin\":true,\"zerolinewidth\":2},\"scene\":{\"xaxis\":{\"backgroundcolor\":\"#E5ECF6\",\"gridcolor\":\"white\",\"linecolor\":\"white\",\"showbackground\":true,\"ticks\":\"\",\"zerolinecolor\":\"white\",\"gridwidth\":2},\"yaxis\":{\"backgroundcolor\":\"#E5ECF6\",\"gridcolor\":\"white\",\"linecolor\":\"white\",\"showbackground\":true,\"ticks\":\"\",\"zerolinecolor\":\"white\",\"gridwidth\":2},\"zaxis\":{\"backgroundcolor\":\"#E5ECF6\",\"gridcolor\":\"white\",\"linecolor\":\"white\",\"showbackground\":true,\"ticks\":\"\",\"zerolinecolor\":\"white\",\"gridwidth\":2}},\"shapedefaults\":{\"line\":{\"color\":\"#2a3f5f\"}},\"annotationdefaults\":{\"arrowcolor\":\"#2a3f5f\",\"arrowhead\":0,\"arrowwidth\":1},\"geo\":{\"bgcolor\":\"white\",\"landcolor\":\"#E5ECF6\",\"subunitcolor\":\"white\",\"showland\":true,\"showlakes\":true,\"lakecolor\":\"white\"},\"title\":{\"x\":0.05},\"mapbox\":{\"style\":\"light\"}}},\"xaxis\":{\"title\":{\"text\":\"date\"},\"tickformat\":\"%d-%m\",\"range\":[\"2022-09-08\",\"2022-09-19\"]},\"font\":{\"family\":\"Helvetica\",\"size\":22,\"color\":\"white\"},\"legend\":{\"x\":0.5,\"y\":1.2,\"xanchor\":\"center\",\"orientation\":\"h\"},\"yaxis\":{\"title\":{\"text\":\"tweets\"}},\"paper_bgcolor\":\"rgba(0,0,0,0)\",\"plot_bgcolor\":\"rgba(0,0,0,0)\",\"margin\":{\"t\":100}},                        {\"responsive\": true}                    ).then(function(){\n",
       "                            \n",
       "var gd = document.getElementById('bfd90a1e-fe97-4001-b8f3-7d5640ad0f93');\n",
       "var x = new MutationObserver(function (mutations, observer) {{\n",
       "        var display = window.getComputedStyle(gd).display;\n",
       "        if (!display || display === 'none') {{\n",
       "            console.log([gd, 'removed!']);\n",
       "            Plotly.purge(gd);\n",
       "            observer.disconnect();\n",
       "        }}\n",
       "}});\n",
       "\n",
       "// Listen for the removal of the full notebook cells\n",
       "var notebookContainer = gd.closest('#notebook-container');\n",
       "if (notebookContainer) {{\n",
       "    x.observe(notebookContainer, {childList: true});\n",
       "}}\n",
       "\n",
       "// Listen for the clearing of the current output cell\n",
       "var outputEl = gd.closest('.output');\n",
       "if (outputEl) {{\n",
       "    x.observe(outputEl, {childList: true});\n",
       "}}\n",
       "\n",
       "                        })                };                });            </script>        </div>"
      ]
     },
     "metadata": {},
     "output_type": "display_data"
    }
   ],
   "source": [
    "# Group the tweets containing '#queueforthequeen' by publication date\n",
    "queue_count_df = tweets_df[tweets_df['tweet'].str.contains('#queueforthequeen', case=False)].groupby('publicationdate').size().reset_index(name='queue_count')\n",
    "\n",
    "# Group the tweets containing '#abolishthemonarchy' by publication date\n",
    "abolish_count_df = tweets_df[tweets_df['tweet'].str.contains('#abolishthemonarchy', case=False)].groupby('publicationdate').size().reset_index(name='abolish_count')\n",
    "\n",
    "# Group the tweets containing '#queenelizabeth' by publication date\n",
    "queen_count_df = tweets_df[tweets_df['tweet'].str.contains('#queenelizabeth', case=False)].groupby('publicationdate').size().reset_index(name='queen_count')\n",
    "\n",
    "# Create a Plotly figure for hashtag counts\n",
    "countperhashtag = go.Figure()\n",
    "\n",
    "# Add line for tweets containing '#queueforthequeen'\n",
    "countperhashtag.add_trace(\n",
    "    go.Scatter(\n",
    "        x=queue_count_df['publicationdate'],\n",
    "        y=queue_count_df['queue_count'],\n",
    "        mode='lines+markers',\n",
    "        line=dict(color=linecolor1, width=2),\n",
    "        name='#queueforthequeen'\n",
    "    )\n",
    ")\n",
    "\n",
    "# Add line for tweets containing '#abolishthemonarchy'\n",
    "countperhashtag.add_trace(\n",
    "    go.Scatter(\n",
    "        x=abolish_count_df['publicationdate'],\n",
    "        y=abolish_count_df['abolish_count'],\n",
    "        mode='lines+markers',\n",
    "        line=dict(color=linecolor2, width=2),\n",
    "        name='#abolishthemonarchy'\n",
    "    )\n",
    ")\n",
    "\n",
    "# Add line for tweets containing '#queenelizabeth'\n",
    "countperhashtag.add_trace(\n",
    "    go.Scatter(\n",
    "        x=queen_count_df['publicationdate'],\n",
    "        y=queen_count_df['queen_count'],\n",
    "        mode='lines+markers',\n",
    "        line=dict(color=linecolor3, width=2),\n",
    "        name='#queenelizabeth'\n",
    "    )\n",
    ")\n",
    "\n",
    "# Customize the layout for hashtag counts\n",
    "countperhashtag.update_layout(\n",
    "    xaxis_title='date',\n",
    "    yaxis_title='tweets',\n",
    "    xaxis_tickformat='%d-%m',\n",
    "    font=dict(\n",
    "        family='Helvetica',\n",
    "        size=22,\n",
    "        color='white'\n",
    "    ),\n",
    "    paper_bgcolor=transparant,\n",
    "    plot_bgcolor=transparant,\n",
    "    xaxis=dict(\n",
    "        range=['2022-09-08', tweets_df['publicationdate'].max()]\n",
    "    ),\n",
    "    legend=dict(\n",
    "        x=0.5,\n",
    "        y=1.2,\n",
    "        xanchor='center',\n",
    "        orientation='h'\n",
    "    )\n",
    ")\n",
    "\n",
    "# Adjust spacing between the subplots\n",
    "countperhashtag.update_layout(\n",
    "    margin=dict(t=100)\n",
    ")\n",
    "\n",
    "# Show the figure\n",
    "countperhashtag.show()\n"
   ]
  },
  {
   "cell_type": "code",
   "execution_count": null,
   "id": "55bbd972",
   "metadata": {},
   "outputs": [],
   "source": []
  }
 ],
 "metadata": {
  "kernelspec": {
   "display_name": "Python 3 (ipykernel)",
   "language": "python",
   "name": "python3"
  },
  "language_info": {
   "codemirror_mode": {
    "name": "ipython",
    "version": 3
   },
   "file_extension": ".py",
   "mimetype": "text/x-python",
   "name": "python",
   "nbconvert_exporter": "python",
   "pygments_lexer": "ipython3",
   "version": "3.9.13"
  }
 },
 "nbformat": 4,
 "nbformat_minor": 5
}
