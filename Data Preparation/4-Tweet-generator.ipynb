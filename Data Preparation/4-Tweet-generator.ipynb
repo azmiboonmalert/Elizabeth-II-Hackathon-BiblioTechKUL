{
 "cells": [
  {
   "cell_type": "markdown",
   "id": "357bdc17",
   "metadata": {},
   "source": [
    "The tweet generator code can be found in Google Colab, since it appears to be too heavy for Jupyter Notebooks: https://colab.research.google.com/drive/1YzqKQpa2YFOSe-1yJHc3EADyI9rpQfiv?usp=sharing"
   ]
  }
 ],
 "metadata": {
  "kernelspec": {
   "display_name": "Python 3 (ipykernel)",
   "language": "python",
   "name": "python3"
  },
  "language_info": {
   "codemirror_mode": {
    "name": "ipython",
    "version": 3
   },
   "file_extension": ".py",
   "mimetype": "text/x-python",
   "name": "python",
   "nbconvert_exporter": "python",
   "pygments_lexer": "ipython3",
   "version": "3.9.13"
  }
 },
 "nbformat": 4,
 "nbformat_minor": 5
}
