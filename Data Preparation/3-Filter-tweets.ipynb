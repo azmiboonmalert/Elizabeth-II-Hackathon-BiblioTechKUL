{
 "cells": [
  {
   "cell_type": "markdown",
   "id": "d1aca431",
   "metadata": {},
   "source": [
    "<h1>👑 Show me some tweets about the monarchy and republic 👑</h1>\n",
    "<p>Let's say you want to build a generator that randomly presents you with tweets about a republic or a monarchy. We'd need to filter out all tweets that contain these keywords. Let's get our file ready for processing.</p>"
   ]
  },
  {
   "cell_type": "code",
   "execution_count": 1,
   "id": "0bcd221f",
   "metadata": {
    "scrolled": true
   },
   "outputs": [],
   "source": [
    "import pandas as pd\n",
    "pd.options.display.max_columns = None\n",
    "pd.options.display.max_rows = None\n",
    "pd.options.display.max_colwidth = None\n",
    "df = pd.read_csv('englishtweets.csv')"
   ]
  },
  {
   "cell_type": "markdown",
   "id": "a6a15e74",
   "metadata": {},
   "source": [
    "<p>In our output, we only want to keep the tweeter's name and handle, the tweet itself and the date, so we can remove all other columns</p>"
   ]
  },
  {
   "cell_type": "code",
   "execution_count": 2,
   "id": "8fdaed24",
   "metadata": {},
   "outputs": [],
   "source": [
    "df = df.drop(['Unnamed: 0', 'id', 'permalink', 'hashtags', 'keywords', 'language', 'images', 'urls'], axis=1)"
   ]
  },
  {
   "cell_type": "code",
   "execution_count": 3,
   "id": "1fcf9fb9",
   "metadata": {},
   "outputs": [
    {
     "data": {
      "text/plain": [
       "Index(['author', 'authorhandle', 'tweet'], dtype='object')"
      ]
     },
     "execution_count": 3,
     "metadata": {},
     "output_type": "execute_result"
    }
   ],
   "source": [
    "df.columns"
   ]
  },
  {
   "cell_type": "markdown",
   "id": "8414b068",
   "metadata": {},
   "source": [
    "<p>Now, we'll make a list for the two words that we want to search on so that we can run our code for the two words in one go. Of course, you could make this a more comphrehensive list, but this will suit our goal just fine.</p>\n",
    "<p>For the two words in the list, we'll filter out the tweets that contain said word. Don't forget to make sure the code converts the text to lower-case so that you include all types of capitalization! Then we'll go over each row in the dataframe and write it to a txt file with some lay-out so that the tweet is betweene quotes and the tweeter's handle between brackets.</p>"
   ]
  },
  {
   "cell_type": "code",
   "execution_count": 7,
   "id": "40b57cc4",
   "metadata": {},
   "outputs": [],
   "source": [
    "words = [\"republic\", \"monarchy\"]\n",
    "\n",
    "for word in words:\n",
    "    # Convert the filter string to lowercase\n",
    "    df_filtered = df[df['tweet'].fillna('').str.lower().str.contains(word)]\n",
    "    \n",
    "    with open(f'{word}.txt', \"w\") as f:\n",
    "        for index, row in df_filtered.iterrows():\n",
    "            author = row['author']\n",
    "            authorhandle = row['authorhandle']\n",
    "            tweet = row['tweet']\n",
    "            \n",
    "            f.write(f'\"{tweet}\" - {author} ({authorhandle})\\n')\n",
    "    \n",
    " "
   ]
  }
 ],
 "metadata": {
  "kernelspec": {
   "display_name": "Python 3 (ipykernel)",
   "language": "python",
   "name": "python3"
  },
  "language_info": {
   "codemirror_mode": {
    "name": "ipython",
    "version": 3
   },
   "file_extension": ".py",
   "mimetype": "text/x-python",
   "name": "python",
   "nbconvert_exporter": "python",
   "pygments_lexer": "ipython3",
   "version": "3.9.13"
  }
 },
 "nbformat": 4,
 "nbformat_minor": 5
}
